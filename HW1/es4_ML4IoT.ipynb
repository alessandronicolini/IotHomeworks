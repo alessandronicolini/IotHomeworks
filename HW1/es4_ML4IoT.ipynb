{
 "cells": [
  {
   "cell_type": "code",
   "execution_count": 76,
   "metadata": {},
   "outputs": [],
   "source": [
    "import numpy as np\n",
    "import pandas as pd"
   ]
  },
  {
   "cell_type": "code",
   "execution_count": 77,
   "metadata": {},
   "outputs": [],
   "source": [
    "import os\n",
    "import sys"
   ]
  },
  {
   "cell_type": "code",
   "execution_count": 78,
   "metadata": {},
   "outputs": [],
   "source": [
    "import datetime\n",
    "from datetime import timezone"
   ]
  },
  {
   "cell_type": "code",
   "execution_count": 79,
   "metadata": {},
   "outputs": [],
   "source": [
    "import wave"
   ]
  },
  {
   "cell_type": "code",
   "execution_count": 84,
   "metadata": {},
   "outputs": [],
   "source": [
    "import tensorflow as tf"
   ]
  },
  {
   "cell_type": "code",
   "execution_count": 80,
   "metadata": {},
   "outputs": [
    {
     "data": {
      "text/html": [
       "<div>\n",
       "<style scoped>\n",
       "    .dataframe tbody tr th:only-of-type {\n",
       "        vertical-align: middle;\n",
       "    }\n",
       "\n",
       "    .dataframe tbody tr th {\n",
       "        vertical-align: top;\n",
       "    }\n",
       "\n",
       "    .dataframe thead th {\n",
       "        text-align: right;\n",
       "    }\n",
       "</style>\n",
       "<table border=\"1\" class=\"dataframe\">\n",
       "  <thead>\n",
       "    <tr style=\"text-align: right;\">\n",
       "      <th></th>\n",
       "      <th>date</th>\n",
       "      <th>time</th>\n",
       "      <th>temp</th>\n",
       "      <th>hum</th>\n",
       "      <th>audio</th>\n",
       "    </tr>\n",
       "  </thead>\n",
       "  <tbody>\n",
       "    <tr>\n",
       "      <th>0</th>\n",
       "      <td>18/10/2020</td>\n",
       "      <td>9:40:10</td>\n",
       "      <td>21</td>\n",
       "      <td>65</td>\n",
       "      <td>audio2.wav</td>\n",
       "    </tr>\n",
       "    <tr>\n",
       "      <th>1</th>\n",
       "      <td>18/10/2020</td>\n",
       "      <td>9:41:12</td>\n",
       "      <td>21</td>\n",
       "      <td>65</td>\n",
       "      <td>audio3.wav</td>\n",
       "    </tr>\n",
       "    <tr>\n",
       "      <th>2</th>\n",
       "      <td>18/10/2020</td>\n",
       "      <td>9:42:14</td>\n",
       "      <td>21</td>\n",
       "      <td>65</td>\n",
       "      <td>audio4.wav</td>\n",
       "    </tr>\n",
       "    <tr>\n",
       "      <th>3</th>\n",
       "      <td>18/10/2020</td>\n",
       "      <td>9:43:16</td>\n",
       "      <td>21</td>\n",
       "      <td>65</td>\n",
       "      <td>audio1.wav</td>\n",
       "    </tr>\n",
       "    <tr>\n",
       "      <th>4</th>\n",
       "      <td>18/10/2020</td>\n",
       "      <td>9:44:18</td>\n",
       "      <td>21</td>\n",
       "      <td>65</td>\n",
       "      <td>audio2.wav</td>\n",
       "    </tr>\n",
       "  </tbody>\n",
       "</table>\n",
       "</div>"
      ],
      "text/plain": [
       "         date     time  temp  hum       audio\n",
       "0  18/10/2020  9:40:10    21   65  audio2.wav\n",
       "1  18/10/2020  9:41:12    21   65  audio3.wav\n",
       "2  18/10/2020  9:42:14    21   65  audio4.wav\n",
       "3  18/10/2020  9:43:16    21   65  audio1.wav\n",
       "4  18/10/2020  9:44:18    21   65  audio2.wav"
      ]
     },
     "execution_count": 80,
     "metadata": {},
     "output_type": "execute_result"
    }
   ],
   "source": [
    "path = \"./rawdata/samples.csv\"\n",
    "df = pd.read_csv(path, usecols=[0, 1, 2, 3, 4], names=['date', 'time', 'temp', 'hum', 'audio'])\n",
    "df.head()"
   ]
  },
  {
   "cell_type": "code",
   "execution_count": 99,
   "metadata": {},
   "outputs": [
    {
     "ename": "TypeError",
     "evalue": "[9.1552734375e-05, -0.001220703125, -0.002593994140625, -0.00494384765625, -0.0064697265625, -0.0062 has type list, but expected one of: int, long, float",
     "output_type": "error",
     "traceback": [
      "\u001b[0;31m---------------------------------------------------------------------------\u001b[0m",
      "\u001b[0;31mTypeError\u001b[0m                                 Traceback (most recent call last)",
      "\u001b[0;32m<ipython-input-99-303f636b44df>\u001b[0m in \u001b[0;36m<module>\u001b[0;34m\u001b[0m\n\u001b[1;32m     34\u001b[0m                 \u001b[0mtemp_feature\u001b[0m \u001b[0;34m=\u001b[0m \u001b[0mtf\u001b[0m\u001b[0;34m.\u001b[0m\u001b[0mtrain\u001b[0m\u001b[0;34m.\u001b[0m\u001b[0mFeature\u001b[0m\u001b[0;34m(\u001b[0m\u001b[0mint64_list\u001b[0m \u001b[0;34m=\u001b[0m \u001b[0mtf\u001b[0m\u001b[0;34m.\u001b[0m\u001b[0mtrain\u001b[0m\u001b[0;34m.\u001b[0m\u001b[0mInt64List\u001b[0m\u001b[0;34m(\u001b[0m\u001b[0mvalue\u001b[0m\u001b[0;34m=\u001b[0m\u001b[0;34m[\u001b[0m\u001b[0mtemp\u001b[0m\u001b[0;34m]\u001b[0m\u001b[0;34m)\u001b[0m\u001b[0;34m)\u001b[0m\u001b[0;34m\u001b[0m\u001b[0;34m\u001b[0m\u001b[0m\n\u001b[1;32m     35\u001b[0m                 \u001b[0mhum_feature\u001b[0m \u001b[0;34m=\u001b[0m \u001b[0mtf\u001b[0m\u001b[0;34m.\u001b[0m\u001b[0mtrain\u001b[0m\u001b[0;34m.\u001b[0m\u001b[0mFeature\u001b[0m\u001b[0;34m(\u001b[0m\u001b[0mint64_list\u001b[0m \u001b[0;34m=\u001b[0m \u001b[0mtf\u001b[0m\u001b[0;34m.\u001b[0m\u001b[0mtrain\u001b[0m\u001b[0;34m.\u001b[0m\u001b[0mInt64List\u001b[0m\u001b[0;34m(\u001b[0m\u001b[0mvalue\u001b[0m\u001b[0;34m=\u001b[0m\u001b[0;34m[\u001b[0m\u001b[0mhum\u001b[0m\u001b[0;34m]\u001b[0m\u001b[0;34m)\u001b[0m\u001b[0;34m)\u001b[0m\u001b[0;34m\u001b[0m\u001b[0;34m\u001b[0m\u001b[0m\n\u001b[0;32m---> 36\u001b[0;31m                 \u001b[0maudio_feature\u001b[0m \u001b[0;34m=\u001b[0m \u001b[0mtf\u001b[0m\u001b[0;34m.\u001b[0m\u001b[0mtrain\u001b[0m\u001b[0;34m.\u001b[0m\u001b[0mFeature\u001b[0m\u001b[0;34m(\u001b[0m\u001b[0mfloat_list\u001b[0m \u001b[0;34m=\u001b[0m \u001b[0mtf\u001b[0m\u001b[0;34m.\u001b[0m\u001b[0mtrain\u001b[0m\u001b[0;34m.\u001b[0m\u001b[0mFloatList\u001b[0m\u001b[0;34m(\u001b[0m\u001b[0mvalue\u001b[0m\u001b[0;34m=\u001b[0m\u001b[0;34m[\u001b[0m\u001b[0maudio\u001b[0m\u001b[0;34m.\u001b[0m\u001b[0mnumpy\u001b[0m\u001b[0;34m(\u001b[0m\u001b[0;34m)\u001b[0m\u001b[0;34m.\u001b[0m\u001b[0mflatten\u001b[0m\u001b[0;34m(\u001b[0m\u001b[0;34m)\u001b[0m\u001b[0;34m.\u001b[0m\u001b[0mtolist\u001b[0m\u001b[0;34m(\u001b[0m\u001b[0;34m)\u001b[0m\u001b[0;34m]\u001b[0m\u001b[0;34m)\u001b[0m\u001b[0;34m)\u001b[0m\u001b[0;34m\u001b[0m\u001b[0;34m\u001b[0m\u001b[0m\n\u001b[0m\u001b[1;32m     37\u001b[0m \u001b[0;34m\u001b[0m\u001b[0m\n\u001b[1;32m     38\u001b[0m                 mapping = {\n",
      "\u001b[0;31mTypeError\u001b[0m: [9.1552734375e-05, -0.001220703125, -0.002593994140625, -0.00494384765625, -0.0064697265625, -0.0062 has type list, but expected one of: int, long, float"
     ]
    }
   ],
   "source": [
    "#create the tfrecord dataset and fill it in with the data\n",
    "out_path = './samples.tfrecord'\n",
    "\n",
    "def _bytes_feature(value):\n",
    "    if isinstance(value, type(tf.constant(0))):\n",
    "        value = value.numpy() # BytesList won't unpack a string from an EagerTensor.\n",
    "        return tf.train.Feature(bytes_list=tf.train.BytesList(value=[value]))\n",
    "\n",
    "with tf.io.TFRecordWriter(out_path) as writer:\n",
    "            for date, time, filename, temp, hum in zip(df.date, df.time, df.audio, df.temp, df.hum):\n",
    "                year = int(date.split('/')[2])\n",
    "                month = int(date.split('/')[1])\n",
    "                day = int(date.split('/')[0])\n",
    "                second = int(time.split(':')[2])\n",
    "                minute = int(time.split(':')[1])\n",
    "                hour = int(time.split(':')[0])\n",
    "\n",
    "                dt = datetime.datetime(year, month, day, hour, minute, second, 0, tzinfo=timezone.utc)\n",
    "                timestamp = int(dt.timestamp())\n",
    "                \n",
    "                file_path = './rawdata/' + str(filename)\n",
    "                raw_audio = tf.io.read_file(file_path)\n",
    "                audio, sample_rate = tf.audio.decode_wav(\n",
    "                    raw_audio,\n",
    "                    desired_channels=1)  # mono\n",
    "                \n",
    "                fp = wave.open(file_path)\n",
    "                nchan = fp.getnchannels()\n",
    "                N = fp.getnframes()\n",
    "                data = fp.readframes(N * nchan)\n",
    "                \n",
    "\n",
    "                datetime_feature = tf.train.Feature(int64_list = tf.train.Int64List(value=[timestamp]))\n",
    "                temp_feature = tf.train.Feature(int64_list = tf.train.Int64List(value=[temp]))\n",
    "                hum_feature = tf.train.Feature(int64_list = tf.train.Int64List(value=[hum]))\n",
    "                audio_feature = tf.train.Feature(float_list = tf.train.FloatList(value=audio.numpy().flatten().tolist()]))\n",
    "                \n",
    "                mapping = {\n",
    "                    'datetime' : datetime_feature,\n",
    "                    'temperature' : temp_feature,\n",
    "                    'humidity' : hum_feature,\n",
    "                    'audio' : audio_feature\n",
    "                }\n",
    "                \n",
    "                feature_map = tf.train.Features(feature=mapping)\n",
    "                \n",
    "                example = tf.train.Example(features=feature_map)\n",
    "\n",
    "                writer.write(example.SerializeToString())"
   ]
  },
  {
   "cell_type": "code",
   "execution_count": 75,
   "metadata": {},
   "outputs": [],
   "source": [
    "#convert audio into raw data\n",
    "#alternative to tf.audio\n",
    "\n",
    "samples = []\n",
    "\n",
    "for filename in df.audio:\n",
    "    path = './rawdata/' + str(filename)\n",
    "    fp = wave.open(path)\n",
    "    nchan = fp.getnchannels()\n",
    "    N = fp.getnframes()\n",
    "    data = fp.readframes(N * nchan)\n",
    "    samples.append(data)\n",
    "\n",
    "\n"
   ]
  }
 ],
 "metadata": {
  "kernelspec": {
   "display_name": "Python 3",
   "language": "python",
   "name": "python3"
  },
  "language_info": {
   "codemirror_mode": {
    "name": "ipython",
    "version": 3
   },
   "file_extension": ".py",
   "mimetype": "text/x-python",
   "name": "python",
   "nbconvert_exporter": "python",
   "pygments_lexer": "ipython3",
   "version": "3.8.5"
  }
 },
 "nbformat": 4,
 "nbformat_minor": 4
}
