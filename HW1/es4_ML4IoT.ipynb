{
 "cells": [
  {
   "cell_type": "code",
   "execution_count": 2,
   "metadata": {},
   "outputs": [],
   "source": [
    "import numpy as np\n",
    "import pandas as pd"
   ]
  },
  {
   "cell_type": "code",
   "execution_count": 3,
   "metadata": {},
   "outputs": [],
   "source": [
    "import os\n",
    "import sys"
   ]
  },
  {
   "cell_type": "code",
   "execution_count": 4,
   "metadata": {},
   "outputs": [],
   "source": [
    "import datetime\n",
    "from datetime import timezone"
   ]
  },
  {
   "cell_type": "code",
   "execution_count": 5,
   "metadata": {},
   "outputs": [],
   "source": [
    "import wave"
   ]
  },
  {
   "cell_type": "code",
   "execution_count": 6,
   "metadata": {},
   "outputs": [],
   "source": [
    "import tensorflow as tf"
   ]
  },
  {
   "cell_type": "code",
   "execution_count": 7,
   "metadata": {},
   "outputs": [
    {
     "data": {
      "text/html": [
       "<div>\n",
       "<style scoped>\n",
       "    .dataframe tbody tr th:only-of-type {\n",
       "        vertical-align: middle;\n",
       "    }\n",
       "\n",
       "    .dataframe tbody tr th {\n",
       "        vertical-align: top;\n",
       "    }\n",
       "\n",
       "    .dataframe thead th {\n",
       "        text-align: right;\n",
       "    }\n",
       "</style>\n",
       "<table border=\"1\" class=\"dataframe\">\n",
       "  <thead>\n",
       "    <tr style=\"text-align: right;\">\n",
       "      <th></th>\n",
       "      <th>date</th>\n",
       "      <th>time</th>\n",
       "      <th>temp</th>\n",
       "      <th>hum</th>\n",
       "      <th>audio</th>\n",
       "    </tr>\n",
       "  </thead>\n",
       "  <tbody>\n",
       "    <tr>\n",
       "      <th>0</th>\n",
       "      <td>18/10/2020</td>\n",
       "      <td>9:40:10</td>\n",
       "      <td>21</td>\n",
       "      <td>65</td>\n",
       "      <td>audio2.wav</td>\n",
       "    </tr>\n",
       "    <tr>\n",
       "      <th>1</th>\n",
       "      <td>18/10/2020</td>\n",
       "      <td>9:41:12</td>\n",
       "      <td>21</td>\n",
       "      <td>65</td>\n",
       "      <td>audio3.wav</td>\n",
       "    </tr>\n",
       "    <tr>\n",
       "      <th>2</th>\n",
       "      <td>18/10/2020</td>\n",
       "      <td>9:42:14</td>\n",
       "      <td>21</td>\n",
       "      <td>65</td>\n",
       "      <td>audio4.wav</td>\n",
       "    </tr>\n",
       "    <tr>\n",
       "      <th>3</th>\n",
       "      <td>18/10/2020</td>\n",
       "      <td>9:43:16</td>\n",
       "      <td>21</td>\n",
       "      <td>65</td>\n",
       "      <td>audio1.wav</td>\n",
       "    </tr>\n",
       "    <tr>\n",
       "      <th>4</th>\n",
       "      <td>18/10/2020</td>\n",
       "      <td>9:44:18</td>\n",
       "      <td>21</td>\n",
       "      <td>65</td>\n",
       "      <td>audio2.wav</td>\n",
       "    </tr>\n",
       "  </tbody>\n",
       "</table>\n",
       "</div>"
      ],
      "text/plain": [
       "         date     time  temp  hum       audio\n",
       "0  18/10/2020  9:40:10    21   65  audio2.wav\n",
       "1  18/10/2020  9:41:12    21   65  audio3.wav\n",
       "2  18/10/2020  9:42:14    21   65  audio4.wav\n",
       "3  18/10/2020  9:43:16    21   65  audio1.wav\n",
       "4  18/10/2020  9:44:18    21   65  audio2.wav"
      ]
     },
     "execution_count": 7,
     "metadata": {},
     "output_type": "execute_result"
    }
   ],
   "source": [
    "path = \"./rawdata/samples.csv\"\n",
    "df = pd.read_csv(path, usecols=[0, 1, 2, 3, 4], names=['date', 'time', 'temp', 'hum', 'audio'])\n",
    "df.head()"
   ]
  },
  {
   "cell_type": "code",
   "execution_count": 21,
   "metadata": {},
   "outputs": [],
   "source": [
    "#create the tfrecord dataset and fill it in with the data\n",
    "out_path = './samples.tfrecord'\n",
    "\n",
    "\n",
    "with tf.io.TFRecordWriter(out_path) as writer:\n",
    "            for date, time, filename, temp, hum in zip(df.date, df.time, df.audio, df.temp, df.hum):\n",
    "                year = int(date.split('/')[2])\n",
    "                month = int(date.split('/')[1])\n",
    "                day = int(date.split('/')[0])\n",
    "                second = int(time.split(':')[2])\n",
    "                minute = int(time.split(':')[1])\n",
    "                hour = int(time.split(':')[0])\n",
    "\n",
    "                dt = datetime.datetime(year, month, day, hour, minute, second, 0, tzinfo=timezone.utc)\n",
    "                timestamp = np.int32(dt.timestamp())\n",
    "                \n",
    "                file_path = './rawdata/' + str(filename)               \n",
    "                    \n",
    "                fp = wave.open(file_path)\n",
    "                nchan = fp.getnchannels()\n",
    "                N = fp.getnframes()\n",
    "                audio_data = fp.readframes(N * nchan)              \n",
    "\n",
    "                datetime_feature = tf.train.Feature(int64_list = tf.train.Int64List(value=[timestamp]))\n",
    "                temp_feature = tf.train.Feature(int64_list = tf.train.Int64List(value=[temp]))\n",
    "                hum_feature = tf.train.Feature(int64_list = tf.train.Int64List(value=[hum]))\n",
    "                audio_feature = tf.train.Feature(bytes_list = tf.train.BytesList(value=[audio_data]))\n",
    "                \n",
    "                mapping = {\n",
    "                    'datetime' : datetime_feature,\n",
    "                    'temperature' : temp_feature,\n",
    "                    'humidity' : hum_feature,\n",
    "                    'audio' : audio_feature\n",
    "                }\n",
    "                \n",
    "                feature_map = tf.train.Features(feature=mapping)\n",
    "                \n",
    "                example = tf.train.Example(features=feature_map)\n",
    "\n",
    "                writer.write(example.SerializeToString())"
   ]
  },
  {
   "cell_type": "markdown",
   "metadata": {},
   "source": [
    "Extract record from tfrecord dataset"
   ]
  },
  {
   "cell_type": "code",
   "execution_count": null,
   "metadata": {},
   "outputs": [],
   "source": [
    "def extract_fn(data_record):\n",
    "    features = {\n",
    "        # Extract features using the keys set during creation\n",
    "        'datetime': tf.io.FixedLenFeature([], tf.int64),\n",
    "        'temperature': tf.io.FixedLenFeature([], tf.int64),\n",
    "        'humidity': tf.io.FixedLenFeature([], tf.int64), \n",
    "        'audio': tf.io.FixedLenFeature([], dtype=tf.string,default_value='')\n",
    "    }\n",
    "    sample = tf.compat.v1.parse_single_example(data_record, features)\n",
    "    return sample\n",
    "\n",
    "# Initialize all tfrecord paths\n",
    "dataset = tf.data.TFRecordDataset(out_path)\n",
    "dataset = dataset.map(extract_fn)\n",
    "dataset = dataset.batch(2)\n",
    "\n",
    "for sample in dataset:\n",
    "    file4 = sample['audio'].numpy()[0]\n",
    "\n",
    "print(file4)\n"
   ]
  }
 ],
 "metadata": {
  "kernelspec": {
   "display_name": "Python 3",
   "language": "python",
   "name": "python3"
  },
  "language_info": {
   "codemirror_mode": {
    "name": "ipython",
    "version": 3
   },
   "file_extension": ".py",
   "mimetype": "text/x-python",
   "name": "python",
   "nbconvert_exporter": "python",
   "pygments_lexer": "ipython3",
   "version": "3.8.5"
  }
 },
 "nbformat": 4,
 "nbformat_minor": 4
}
