{
 "cells": [
  {
   "cell_type": "code",
   "execution_count": 5,
   "metadata": {},
   "outputs": [
    {
     "ename": "AttributeError",
     "evalue": "'ClientP2P' object has no attribute '_subscribe_topics'",
     "output_type": "error",
     "traceback": [
      "\u001b[0;31m---------------------------------------------------------------------------\u001b[0m",
      "\u001b[0;31mAttributeError\u001b[0m                            Traceback (most recent call last)",
      "\u001b[0;32m<ipython-input-5-0f462dfbc986>\u001b[0m in \u001b[0;36m<module>\u001b[0;34m\u001b[0m\n\u001b[1;32m      8\u001b[0m     \u001b[0msubscribe_topics\u001b[0m\u001b[0;34m,\u001b[0m \u001b[0mpublish_topic\u001b[0m \u001b[0;34m=\u001b[0m \u001b[0;34m[\u001b[0m\u001b[0;34m'/group11IOTHW3/model/1'\u001b[0m\u001b[0;34m,\u001b[0m \u001b[0;34m'/group11IOTHW3/model/2'\u001b[0m\u001b[0;34m]\u001b[0m\u001b[0;34m,\u001b[0m \u001b[0;34m'/group11IOTHW3/prep_sample'\u001b[0m\u001b[0;34m\u001b[0m\u001b[0;34m\u001b[0m\u001b[0m\n\u001b[1;32m      9\u001b[0m     \u001b[0mrasp\u001b[0m \u001b[0;34m=\u001b[0m \u001b[0mClientP2P\u001b[0m\u001b[0;34m(\u001b[0m\u001b[0;34m'raspClient'\u001b[0m\u001b[0;34m,\u001b[0m \u001b[0msubscribe_topics\u001b[0m\u001b[0;34m,\u001b[0m \u001b[0mpublish_topic\u001b[0m\u001b[0;34m)\u001b[0m\u001b[0;34m\u001b[0m\u001b[0;34m\u001b[0m\u001b[0m\n\u001b[0;32m---> 10\u001b[0;31m     \u001b[0mrasp\u001b[0m\u001b[0;34m.\u001b[0m\u001b[0mstart\u001b[0m\u001b[0;34m(\u001b[0m\u001b[0;34m)\u001b[0m\u001b[0;34m\u001b[0m\u001b[0;34m\u001b[0m\u001b[0m\n\u001b[0m\u001b[1;32m     11\u001b[0m \u001b[0;34m\u001b[0m\u001b[0m\n\u001b[1;32m     12\u001b[0m     \u001b[0mstart\u001b[0m \u001b[0;34m=\u001b[0m \u001b[0mtime\u001b[0m\u001b[0;34m.\u001b[0m\u001b[0mtime\u001b[0m\u001b[0;34m(\u001b[0m\u001b[0;34m)\u001b[0m\u001b[0;34m\u001b[0m\u001b[0;34m\u001b[0m\u001b[0m\n",
      "\u001b[0;32m~/Documents/DataScienceEng/2_1/IoT/IotHomeworks_git/HW3/ClientP2P.py\u001b[0m in \u001b[0;36mstart\u001b[0;34m(self)\u001b[0m\n\u001b[1;32m     26\u001b[0m         \u001b[0mself\u001b[0m\u001b[0;34m.\u001b[0m\u001b[0m_paho_mqtt\u001b[0m\u001b[0;34m.\u001b[0m\u001b[0mloop_start\u001b[0m\u001b[0;34m(\u001b[0m\u001b[0;34m)\u001b[0m\u001b[0;34m\u001b[0m\u001b[0;34m\u001b[0m\u001b[0m\n\u001b[1;32m     27\u001b[0m         \u001b[0;31m# subscribe for the topics\u001b[0m\u001b[0;34m\u001b[0m\u001b[0;34m\u001b[0m\u001b[0;34m\u001b[0m\u001b[0m\n\u001b[0;32m---> 28\u001b[0;31m         \u001b[0;32mfor\u001b[0m \u001b[0mtopic\u001b[0m \u001b[0;32min\u001b[0m \u001b[0mself\u001b[0m\u001b[0;34m.\u001b[0m\u001b[0m_subscribe_topics\u001b[0m\u001b[0;34m:\u001b[0m\u001b[0;34m\u001b[0m\u001b[0;34m\u001b[0m\u001b[0m\n\u001b[0m\u001b[1;32m     29\u001b[0m             \u001b[0mself\u001b[0m\u001b[0;34m.\u001b[0m\u001b[0m_paho_mqtt\u001b[0m\u001b[0;34m.\u001b[0m\u001b[0msubscribe\u001b[0m\u001b[0;34m(\u001b[0m\u001b[0mtopic\u001b[0m\u001b[0;34m,\u001b[0m \u001b[0;36m2\u001b[0m\u001b[0;34m)\u001b[0m\u001b[0;34m\u001b[0m\u001b[0;34m\u001b[0m\u001b[0m\n\u001b[1;32m     30\u001b[0m \u001b[0;34m\u001b[0m\u001b[0m\n",
      "\u001b[0;31mAttributeError\u001b[0m: 'ClientP2P' object has no attribute '_subscribe_topics'"
     ]
    },
    {
     "name": "stdout",
     "output_type": "stream",
     "text": [
      "Connected to mqtt.eclipseprojects.io with result code: 0\n",
      "Connected to mqtt.eclipseprojects.io with result code: 0\n",
      "Connected to mqtt.eclipseprojects.io with result code: 0\n",
      "Connected to mqtt.eclipseprojects.io with result code: 0\n",
      "Connected to mqtt.eclipseprojects.io with result code: 0\n",
      "Connected to mqtt.eclipseprojects.io with result code: 0\n",
      "Connected to mqtt.eclipseprojects.io with result code: 0\n",
      "Connected to mqtt.eclipseprojects.io with result code: 0\n",
      "Connected to mqtt.eclipseprojects.io with result code: 0\n",
      "Connected to mqtt.eclipseprojects.io with result code: 0\n",
      "Connected to mqtt.eclipseprojects.io with result code: 0\n",
      "Connected to mqtt.eclipseprojects.io with result code: 0\n",
      "Connected to mqtt.eclipseprojects.io with result code: 0\n",
      "Connected to mqtt.eclipseprojects.io with result code: 0\n",
      "Connected to mqtt.eclipseprojects.io with result code: 0\n",
      "Connected to mqtt.eclipseprojects.io with result code: 0\n",
      "Connected to mqtt.eclipseprojects.io with result code: 0\n",
      "Connected to mqtt.eclipseprojects.io with result code: 0\n",
      "Connected to mqtt.eclipseprojects.io with result code: 0\n",
      "Connected to mqtt.eclipseprojects.io with result code: 0\n",
      "Connected to mqtt.eclipseprojects.io with result code: 0\n",
      "Connected to mqtt.eclipseprojects.io with result code: 0\n",
      "Connected to mqtt.eclipseprojects.io with result code: 0\n"
     ]
    }
   ],
   "source": [
    "import paho.mqtt.client as PahoMQTT\n",
    "import time\n",
    "from ClientP2P import ClientP2P\n",
    "\n",
    "\n",
    "if __name__ == \"__main__\":\n",
    "    \n",
    "    subscribe_topics, publish_topic = ['/group11IOTHW3/model/1', '/group11IOTHW3/model/2'], '/group11IOTHW3/prep_sample'\n",
    "    rasp = ClientP2P('raspClient', subscribe_topics, publish_topic)\n",
    "    rasp.start()\n",
    "    \n",
    "    start = time.time()\n",
    "    # run for 20 seconds\n",
    "    while time.time() - start < 20:\n",
    "        message = ('rasp message at %d'%time.time())\n",
    "        resp.myPublish(publish_topic, message)\n",
    "        time.sleep(1)\n",
    "    \n",
    "    rasp.stop()"
   ]
  },
  {
   "cell_type": "code",
   "execution_count": null,
   "metadata": {},
   "outputs": [],
   "source": []
  }
 ],
 "metadata": {
  "kernelspec": {
   "display_name": "Python 3",
   "language": "python",
   "name": "python3"
  },
  "language_info": {
   "codemirror_mode": {
    "name": "ipython",
    "version": 3
   },
   "file_extension": ".py",
   "mimetype": "text/x-python",
   "name": "python",
   "nbconvert_exporter": "python",
   "pygments_lexer": "ipython3",
   "version": "3.8.5"
  }
 },
 "nbformat": 4,
 "nbformat_minor": 4
}
