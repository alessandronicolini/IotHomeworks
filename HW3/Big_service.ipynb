{
 "cells": [
  {
   "cell_type": "code",
   "execution_count": 1,
   "metadata": {},
   "outputs": [],
   "source": [
    "import cherrypy"
   ]
  },
  {
   "cell_type": "code",
   "execution_count": 10,
   "metadata": {},
   "outputs": [],
   "source": [
    "class myService(object):\n",
    "    exposed = True\n",
    "    \n",
    "    def GET(self, *path, **query):\n",
    "        return(\"path: \"+str(path)+\"params: \"+str(query))\n",
    "    \n",
    "    def POST(self, *path, **query):\n",
    "        pass\n",
    "    \n",
    "    def PUT(self, *path, **query):\n",
    "        pass\n",
    "    \n",
    "    def DELETE(self, *path, **query):\n",
    "        pass\n",
    "    "
   ]
  },
  {
   "cell_type": "code",
   "execution_count": 12,
   "metadata": {},
   "outputs": [
    {
     "name": "stderr",
     "output_type": "stream",
     "text": [
      "[13/Jan/2021:22:46:27] ENGINE Bus STARTING\n",
      "[13/Jan/2021:22:46:27] ENGINE Started monitor thread 'Autoreloader'.\n",
      "[13/Jan/2021:22:46:27] ENGINE Serving on http://127.0.0.1:8080\n",
      "[13/Jan/2021:22:46:27] ENGINE Bus STARTED\n"
     ]
    },
    {
     "name": "stdout",
     "output_type": "stream",
     "text": [
      "127.0.0.1 - - [13/Jan/2021:22:46:32] \"GET /hello/world?param=2 HTTP/1.1\" 200 46 \"\" \"PostmanRuntime/7.26.8\"\n",
      "127.0.0.1 - - [13/Jan/2021:22:46:53] \"GET /hello/world?param=2&ciao=mondo HTTP/1.1\" 200 63 \"\" \"PostmanRuntime/7.26.8\"\n"
     ]
    },
    {
     "name": "stderr",
     "output_type": "stream",
     "text": [
      "[13/Jan/2021:23:21:11] ENGINE Keyboard Interrupt: shutting down bus\n",
      "[13/Jan/2021:23:21:11] ENGINE Bus STOPPING\n",
      "[13/Jan/2021:23:21:12] ENGINE HTTP Server cherrypy._cpwsgi_server.CPWSGIServer(('127.0.0.1', 8080)) shut down\n",
      "[13/Jan/2021:23:21:12] ENGINE Stopped thread 'Autoreloader'.\n",
      "[13/Jan/2021:23:21:12] ENGINE Bus STOPPED\n",
      "[13/Jan/2021:23:21:12] ENGINE Bus EXITING\n",
      "[13/Jan/2021:23:21:12] ENGINE Bus EXITED\n",
      "[13/Jan/2021:23:21:12] ENGINE Waiting for child threads to terminate...\n"
     ]
    }
   ],
   "source": [
    "if __name__ == '__main__':\n",
    "    conf = {\n",
    "        '/': {\n",
    "            'request.dispatch': cherrypy.dispatch.MethodDispatcher(),\n",
    "            'tools.sessions.on': True,\n",
    "        }\n",
    "    }\n",
    "    cherrypy.tree.mount (myService(), \"/\",conf)\n",
    "    cherrypy.config.update({'server.socket_host': '127.0.0.1'})\n",
    "    cherrypy.config.update({'server.socket_port': 8080})\n",
    "    cherrypy.engine.start()\n",
    "    cherrypy.engine.block()"
   ]
  },
  {
   "cell_type": "code",
   "execution_count": null,
   "metadata": {},
   "outputs": [],
   "source": []
  }
 ],
 "metadata": {
  "kernelspec": {
   "display_name": "Python 3",
   "language": "python",
   "name": "python3"
  },
  "language_info": {
   "codemirror_mode": {
    "name": "ipython",
    "version": 3
   },
   "file_extension": ".py",
   "mimetype": "text/x-python",
   "name": "python",
   "nbconvert_exporter": "python",
   "pygments_lexer": "ipython3",
   "version": "3.8.5"
  }
 },
 "nbformat": 4,
 "nbformat_minor": 4
}
