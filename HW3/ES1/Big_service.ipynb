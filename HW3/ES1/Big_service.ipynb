{
 "cells": [
  {
   "cell_type": "code",
   "execution_count": 14,
   "metadata": {},
   "outputs": [],
   "source": [
    "import cherrypy"
   ]
  },
  {
   "cell_type": "code",
   "execution_count": 26,
   "metadata": {},
   "outputs": [],
   "source": [
    "class myService(object):\n",
    "    exposed = True\n",
    "    \n",
    "    def GET(self, *path, **query):\n",
    "        \n",
    "        return(\"ciao\")\n",
    "    \n",
    "    def POST(self, *path, **query):\n",
    "        # receives a json containing a raw audio file\n",
    "        # reads the body of the http request\n",
    "        # processes the audio file as mfcc\n",
    "        # runs inference with big model using mfcc as input\n",
    "        # returns the values of the last layer of the neural network\n",
    "        \n",
    "        ##simplified version\n",
    "        # reads the http body and returns it as json\n",
    "        \n",
    "        req = cherrypy.request.body.read()\n",
    "        #body = json.dumps(req)\n",
    "        \n",
    "        \n",
    "        return req\n",
    "    \n",
    "    def PUT(self, *path, **query):\n",
    "        pass\n",
    "    \n",
    "    def DELETE(self, *path, **query):\n",
    "        pass\n",
    "    "
   ]
  },
  {
   "cell_type": "code",
   "execution_count": 27,
   "metadata": {},
   "outputs": [
    {
     "name": "stderr",
     "output_type": "stream",
     "text": [
      "[15/Jan/2021:00:14:00] ENGINE Bus STARTING\n",
      "[15/Jan/2021:00:14:00] ENGINE Started monitor thread 'Autoreloader'.\n",
      "[15/Jan/2021:00:14:00] ENGINE Serving on http://127.0.0.1:8080\n",
      "[15/Jan/2021:00:14:00] ENGINE Bus STARTED\n"
     ]
    },
    {
     "name": "stdout",
     "output_type": "stream",
     "text": [
      "127.0.0.1 - - [15/Jan/2021:00:14:08] \"POST / HTTP/1.1\" 200 - \"\" \"PostmanRuntime/7.26.8\"\n",
      "127.0.0.1 - - [15/Jan/2021:00:14:20] \"POST / HTTP/1.1\" 200 30 \"\" \"python-requests/2.22.0\"\n",
      "127.0.0.1 - - [15/Jan/2021:00:14:47] \"POST / HTTP/1.1\" 200 89 \"\" \"python-requests/2.22.0\"\n"
     ]
    },
    {
     "name": "stderr",
     "output_type": "stream",
     "text": [
      "[15/Jan/2021:00:15:22] ENGINE Keyboard Interrupt: shutting down bus\n",
      "[15/Jan/2021:00:15:22] ENGINE Bus STOPPING\n",
      "[15/Jan/2021:00:15:22] ENGINE HTTP Server cherrypy._cpwsgi_server.CPWSGIServer(('127.0.0.1', 8080)) shut down\n",
      "[15/Jan/2021:00:15:22] ENGINE Stopped thread 'Autoreloader'.\n",
      "[15/Jan/2021:00:15:22] ENGINE Bus STOPPED\n",
      "[15/Jan/2021:00:15:22] ENGINE Bus EXITING\n",
      "[15/Jan/2021:00:15:22] ENGINE Bus EXITED\n",
      "[15/Jan/2021:00:15:22] ENGINE Waiting for child threads to terminate...\n"
     ]
    }
   ],
   "source": [
    "if __name__ == '__main__':\n",
    "    conf = {\n",
    "        '/': {\n",
    "            'request.dispatch': cherrypy.dispatch.MethodDispatcher(),\n",
    "            'tools.sessions.on': True,\n",
    "        }\n",
    "    }\n",
    "    cherrypy.tree.mount (myService(), \"/\",conf)\n",
    "    cherrypy.config.update({'server.socket_host': '127.0.0.1'})\n",
    "    cherrypy.config.update({'server.socket_port': 8080})\n",
    "    cherrypy.engine.start()\n",
    "    cherrypy.engine.block()"
   ]
  },
  {
   "cell_type": "code",
   "execution_count": null,
   "metadata": {},
   "outputs": [],
   "source": []
  }
 ],
 "metadata": {
  "kernelspec": {
   "display_name": "Python 3",
   "language": "python",
   "name": "python3"
  },
  "language_info": {
   "codemirror_mode": {
    "name": "ipython",
    "version": 3
   },
   "file_extension": ".py",
   "mimetype": "text/x-python",
   "name": "python",
   "nbconvert_exporter": "python",
   "pygments_lexer": "ipython3",
   "version": "3.8.5"
  }
 },
 "nbformat": 4,
 "nbformat_minor": 4
}
