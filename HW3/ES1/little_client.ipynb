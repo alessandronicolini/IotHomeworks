{
 "cells": [
  {
   "cell_type": "code",
   "execution_count": 1,
   "metadata": {},
   "outputs": [],
   "source": [
    "import requests\n",
    "import os\n",
    "import sys\n",
    "import pathlib\n",
    "import tensorflow as tf\n",
    "import numpy as np\n",
    "import wave\n",
    "import base64\n",
    "import datetime\n",
    "from datetime import timezone\n",
    "import json\n",
    "import time\n"
   ]
  },
  {
   "cell_type": "code",
   "execution_count": 2,
   "metadata": {},
   "outputs": [],
   "source": [
    "import socket\n",
    "#sulla raspberry dovrebbe ritornare l'ip del dispositivo\n",
    "#non dovrebbe servire ai fini della comunicazione\n",
    "#cherrypy gestisce la risposta del webservice e l'ip del mittente si trova nell'header http\n",
    "device_name = socket.gethostbyname(socket.gethostname())"
   ]
  },
  {
   "cell_type": "raw",
   "metadata": {},
   "source": [
    "leggere dataset da test files\n",
    "\timplementeare little model\n",
    "\timplementare success checker\n",
    "\ttradurre da raw audio a audio string con base64\n",
    "\tcreare messaggio json con formato SenML\n",
    "\t\tbn con id provenienza\n",
    "\t\tbt timestamp posix\n",
    "\t\tdizionario con audio string\n",
    "\t\t\t\"n\":\"audio\", \"u\":qualcosa, \"v\":audio string"
   ]
  },
  {
   "cell_type": "code",
   "execution_count": 3,
   "metadata": {},
   "outputs": [],
   "source": [
    "# DATASET CLASS ----------------------------------------------------------------\n",
    "class SignalGenerator:\n",
    "    def __init__(self, labels, sampling_rate, frame_length, frame_step,\n",
    "            num_mel_bins=None, lower_frequency=None, upper_frequency=None,\n",
    "            num_coefficients=None, mfcc=False):\n",
    "        self.labels = labels\n",
    "        self.sampling_rate = sampling_rate\n",
    "        self.frame_length = frame_length\n",
    "        self.frame_step = frame_step\n",
    "        self.num_mel_bins = num_mel_bins\n",
    "        self.lower_frequency = lower_frequency\n",
    "        self.upper_frequency = upper_frequency\n",
    "        self.num_coefficients = num_coefficients\n",
    "        num_spectrogram_bins = (frame_length) // 2 + 1\n",
    "\n",
    "        if mfcc is True:\n",
    "            self.linear_to_mel_weight_matrix = tf.signal.linear_to_mel_weight_matrix(\n",
    "                    self.num_mel_bins, num_spectrogram_bins, self.sampling_rate,\n",
    "                    self.lower_frequency, self.upper_frequency)\n",
    "            self.preprocess = self.preprocess_with_mfcc\n",
    "        else:\n",
    "            self.preprocess = self.preprocess_with_stft\n",
    "\n",
    "            \n",
    "    def read(self, file_path):\n",
    "        parts = tf.strings.split(file_path, os.path.sep)\n",
    "        label = parts[-2]\n",
    "        label_id = tf.argmax(label == self.labels)\n",
    "        audio_binary = tf.io.read_file(file_path)\n",
    "        audio, _ = tf.audio.decode_wav(audio_binary)\n",
    "        audio = tf.squeeze(audio, axis=1)\n",
    "\n",
    "        return audio, audio_binary, label_id\n",
    "\n",
    "    \n",
    "    def pad(self, audio):\n",
    "        zero_padding = tf.zeros([self.sampling_rate] - tf.shape(audio), dtype=tf.float32)\n",
    "        audio = tf.concat([audio, zero_padding], 0)\n",
    "        audio.set_shape([self.sampling_rate])\n",
    "\n",
    "        return audio\n",
    "\n",
    "    \n",
    "    def get_spectrogram(self, audio):\n",
    "        stft = tf.signal.stft(audio, frame_length=self.frame_length,\n",
    "                frame_step=self.frame_step, fft_length=self.frame_length)\n",
    "        spectrogram = tf.abs(stft)\n",
    "\n",
    "        return spectrogram\n",
    "\n",
    "    \n",
    "    def get_mfccs(self, spectrogram):\n",
    "        mel_spectrogram = tf.tensordot(spectrogram,\n",
    "                self.linear_to_mel_weight_matrix, 1)\n",
    "        log_mel_spectrogram = tf.math.log(mel_spectrogram + 1.e-6)\n",
    "        mfccs = tf.signal.mfccs_from_log_mel_spectrograms(log_mel_spectrogram)\n",
    "        mfccs = mfccs[..., :self.num_coefficients]\n",
    "\n",
    "        return mfccs\n",
    "\n",
    "    \n",
    "    def preprocess_with_stft(self, file_path):\n",
    "        audio, audio_binary,  label = self.read(file_path)\n",
    "        audio = self.pad(audio)\n",
    "        spectrogram = self.get_spectrogram(audio)\n",
    "        spectrogram = tf.expand_dims(spectrogram, -1)\n",
    "        spectrogram = tf.image.resize(spectrogram, [32, 32])\n",
    "\n",
    "        return spectrogram, audio_binary, label\n",
    "\n",
    "    \n",
    "    def preprocess_with_mfcc(self, file_path):\n",
    "        audio, audio_binary, label = self.read(file_path)\n",
    "        audio = self.pad(audio)\n",
    "        spectrogram = self.get_spectrogram(audio)\n",
    "        mfccs = self.get_mfccs(spectrogram)\n",
    "        mfccs = tf.expand_dims(mfccs, -1)\n",
    "\n",
    "        return mfccs, audio_binary, label\n",
    "\n",
    "    \n",
    "    def make_dataset(self, files, train):\n",
    "        ds = tf.data.Dataset.from_tensor_slices(files)\n",
    "        ds = ds.map(self.preprocess, num_parallel_calls=4)\n",
    "        ds = ds.cache()\n",
    "        if train is True:\n",
    "            ds = ds.shuffle(100, reshuffle_each_iteration=True)\n",
    "        return ds\n"
   ]
  },
  {
   "cell_type": "code",
   "execution_count": 4,
   "metadata": {},
   "outputs": [
    {
     "name": "stdout",
     "output_type": "stream",
     "text": [
      "yes\n",
      "left\n",
      "stop\n",
      "no\n",
      "up\n",
      "go\n",
      "right\n",
      "down\n"
     ]
    }
   ],
   "source": [
    "#creazione dataset per inferenza e per trasmissione\n",
    "\n",
    "data_dir = pathlib.Path('data/mini_speech_commands')\n",
    "if not data_dir.exists():\n",
    "  tf.keras.utils.get_file(\n",
    "      'mini_speech_commands.zip',\n",
    "      origin=\"http://storage.googleapis.com/download.tensorflow.org/data/mini_speech_commands.zip\",\n",
    "      extract=True,\n",
    "      cache_dir='.', cache_subdir='data')\n",
    "\n",
    "#lista di labels\n",
    "labels=[]\n",
    "for el in os.listdir(\"./data/mini_speech_commands\"):\n",
    "  if el!=\"README.md\":\n",
    "    labels.append(el)\n",
    "    print(el)\n",
    "\n",
    "\n",
    "#lista di test\n",
    "test_list=[]\n",
    "with open(os.path.join(sys.path[0], \"kws_test_split.txt\"), \"r\") as file:\n",
    "    for line in file:\n",
    "        test_list.append('.'+line[1:-1])\n",
    "        \n",
    "cnt = 0\n",
    "for i in test_list:\n",
    "    #print(i)\n",
    "    cnt += 1\n",
    "    if cnt == 5:\n",
    "        break\n",
    "        \n",
    "MFCC_OPTIONS = {'frame_length': 640, 'frame_step': 320, 'mfcc': True,'lower_frequency': 20, 'upper_frequency': 4000, 'num_mel_bins': 40,'num_coefficients': 10}\n",
    "\n",
    "generator = SignalGenerator(labels, 16000, **MFCC_OPTIONS)\n",
    "test_ds = generator.make_dataset(test_list, train=False)"
   ]
  },
  {
   "cell_type": "code",
   "execution_count": 5,
   "metadata": {},
   "outputs": [
    {
     "data": {
      "text/plain": [
       "800"
      ]
     },
     "execution_count": 5,
     "metadata": {},
     "output_type": "execute_result"
    }
   ],
   "source": [
    "len(test_ds)"
   ]
  },
  {
   "cell_type": "code",
   "execution_count": 6,
   "metadata": {},
   "outputs": [
    {
     "name": "stdout",
     "output_type": "stream",
     "text": [
      "1\n",
      "2\n",
      "5\n",
      "3\n",
      "0\n",
      "2\n",
      "7\n",
      "7\n",
      "1\n",
      "7\n"
     ]
    }
   ],
   "source": [
    "#per ogni elemento del test set invia il sample al webservice\n",
    "url=\"http://127.0.0.1:8080\"\n",
    "for test_sample, audio_binary, label in  test_ds.take(10):\n",
    "    \n",
    "    # prendi audio_binary e crea un json da passare al webservice\n",
    "    audio_bytes = audio_binary.numpy()\n",
    "    audio_b64bytes = base64.b64encode(audio_bytes)\n",
    "    audio_string = audio_b64bytes.decode()\n",
    "    timestamp = int(datetime.datetime.now(timezone.utc).timestamp())\n",
    "   \n",
    "    body = {\n",
    "            \"bn\" : device_name,\n",
    "            \"bt\" : timestamp,\n",
    "            \"e\" :[\n",
    "                    {\"n\":\"audio\", \"u\":\"/\", \"t\":0, \"vd\":audio_string}\n",
    "            ]\n",
    "    }\n",
    "    \n",
    "    \n",
    "    \n",
    "    #body = json.dumps(body)\n",
    "    r=requests.post(url, json=body)\n",
    "    \n",
    "    if r.status_code==200:\n",
    "        rbody=r.text\n",
    "        print(rbody)\n",
    "    time.sleep(1)\n",
    "    \n",
    "    \n",
    "   \n",
    "    \n",
    "\n"
   ]
  },
  {
   "cell_type": "code",
   "execution_count": 7,
   "metadata": {},
   "outputs": [
    {
     "name": "stdout",
     "output_type": "stream",
     "text": [
      "[ 1 49 10  1]\n"
     ]
    }
   ],
   "source": [
    "#load tflite model from memory\n",
    "# Load TFLite model and allocate tensors.\n",
    "interpreter = tf.lite.Interpreter(model_path=\"big_model.tflite\")\n",
    "interpreter.allocate_tensors()\n",
    "\n",
    "# Get input and output tensors.\n",
    "input_details = interpreter.get_input_details()\n",
    "output_details = interpreter.get_output_details()\n",
    "\n",
    "\n",
    "input_shape = input_details[0]['shape']\n",
    "print(input_shape)"
   ]
  },
  {
   "cell_type": "code",
   "execution_count": 8,
   "metadata": {},
   "outputs": [
    {
     "name": "stdout",
     "output_type": "stream",
     "text": [
      "prediction : 1\n",
      "truth : 1\n",
      "prediction : 2\n",
      "truth : 2\n",
      "prediction : 5\n",
      "truth : 5\n",
      "prediction : 3\n",
      "truth : 3\n",
      "prediction : 0\n",
      "truth : 0\n",
      "prediction : 2\n",
      "truth : 2\n",
      "prediction : 7\n",
      "truth : 4\n",
      "prediction : 7\n",
      "truth : 7\n",
      "prediction : 1\n",
      "truth : 1\n",
      "prediction : 7\n",
      "truth : 7\n"
     ]
    }
   ],
   "source": [
    "for test_sample, audio_binary, label in  test_ds.take(10):\n",
    "    \n",
    "    test_sample = np.expand_dims(test_sample, axis=0).astype(np.float32)\n",
    "    interpreter.set_tensor(input_details[0]['index'], test_sample)\n",
    "    interpreter.invoke()\n",
    "    output_data = interpreter.get_tensor(output_details[0]['index'])\n",
    "    print(\"prediction : \" +str(np.argmax(output_data)))\n",
    "    print(\"truth : \" +str(label.numpy()))"
   ]
  }
 ],
 "metadata": {
  "kernelspec": {
   "display_name": "Python 3",
   "language": "python",
   "name": "python3"
  },
  "language_info": {
   "codemirror_mode": {
    "name": "ipython",
    "version": 3
   },
   "file_extension": ".py",
   "mimetype": "text/x-python",
   "name": "python",
   "nbconvert_exporter": "python",
   "pygments_lexer": "ipython3",
   "version": "3.8.5"
  }
 },
 "nbformat": 4,
 "nbformat_minor": 4
}
