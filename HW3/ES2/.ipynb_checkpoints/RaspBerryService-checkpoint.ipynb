{
 "cells": [
  {
   "cell_type": "code",
   "execution_count": 1,
   "metadata": {},
   "outputs": [],
   "source": [
    "import paho.mqtt.client as PahoMQTT\n",
    "import time\n",
    "from raspClient import raspClient\n",
    "from dataset import SignalGenerator\n",
    "import tensorflow as tf\n",
    "import numpy as np\n",
    "import pathlib\n",
    "import os\n",
    "import datetime\n",
    "from datetime import timezone\n",
    "import json"
   ]
  },
  {
   "cell_type": "code",
   "execution_count": 2,
   "metadata": {},
   "outputs": [
    {
     "name": "stdout",
     "output_type": "stream",
     "text": [
      "Connected to mqtt.eclipseprojects.io with result code: 0\n"
     ]
    }
   ],
   "source": [
    "# DATASET PREPARATION -----------------------------------------\n",
    "seed = 42\n",
    "tf.random.set_seed(seed)\n",
    "np.random.seed(seed)\n",
    "\n",
    "# download dataset\n",
    "data_dir = pathlib.Path('data/mini_speech_commands')\n",
    "if not data_dir.exists():\n",
    "  tf.keras.utils.get_file(\n",
    "      'mini_speech_commands.zip',\n",
    "      origin=\"http://storage.googleapis.com/download.tensorflow.org/data/mini_speech_commands.zip\",\n",
    "      extract=True,\n",
    "      cache_dir='.', cache_subdir='data')\n",
    "\n",
    "# lista di test\n",
    "test_list=[]\n",
    "file=open(\"./kws_test_split.txt\")\n",
    "for line in file:\n",
    "  test_list.append('.'+line[1:-1])\n",
    "\n",
    "# lista di labels - da replicare in EX1\n",
    "labels = open('labels.txt').readlines()[0].split() \n",
    "print(labels)\n",
    "\n",
    "MFCC_OPTIONS = {\n",
    "    'frame_length': 640, \n",
    "    'frame_step': 320, \n",
    "    'mfcc': True,\n",
    "    'lower_frequency': 20, \n",
    "    'upper_frequency': 4000, \n",
    "    'num_mel_bins': 40,\n",
    "    'num_coefficients': 10\n",
    "}\n",
    "\n",
    "# make test dataset\n",
    "generator = SignalGenerator(labels, 16000, **MFCC_OPTIONS)     \n",
    "test_ds = generator.make_dataset(test_list, False)\n",
    "\n",
    "# RASP CLIENT--------------------------------------------------\n",
    "timestamp = int(datetime.datetime.now(timezone.utc).timestamp())\n",
    "device_name = 'rasp'\n",
    "\n",
    "subscribe_topics, publish_topic = ['/group11IOTHW3/model/1'], '/group11IOTHW3/prep_sample'\n",
    "rasp = raspClient('raspClient', subscribe_topics, publish_topic, len(test_ds))\n",
    "rasp.start()\n",
    "\n",
    "for i, (mfcc, label) in enumerate(test_ds.take(5)):\n",
    "    senml_msg = {\n",
    "        \"bn\" : device_name,\n",
    "        \"bt\" : timestamp,\n",
    "        \"e\" :[{\"n\":\"audio\", \"u\":\"/\", \"t\":0, \"vd\":mfcc.numpy().tolist(), 'idx': i}]\n",
    "        }\n",
    "    senml_msg = json.dumps(senml_msg)\n",
    "    rasp.myPublish(publish_topic, senml_msg)\n",
    "    time.sleep(1)"
   ]
  },
  {
   "cell_type": "code",
   "execution_count": null,
   "metadata": {},
   "outputs": [],
   "source": []
  },
  {
   "cell_type": "code",
   "execution_count": null,
   "metadata": {},
   "outputs": [],
   "source": []
  }
 ],
 "metadata": {
  "kernelspec": {
   "display_name": "Python 3",
   "language": "python",
   "name": "python3"
  },
  "language_info": {
   "codemirror_mode": {
    "name": "ipython",
    "version": 3
   },
   "file_extension": ".py",
   "mimetype": "text/x-python",
   "name": "python",
   "nbconvert_exporter": "python",
   "pygments_lexer": "ipython3",
   "version": "3.8.5"
  }
 },
 "nbformat": 4,
 "nbformat_minor": 4
}
