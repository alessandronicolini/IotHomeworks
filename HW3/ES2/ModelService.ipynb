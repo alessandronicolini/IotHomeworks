{
 "cells": [
  {
   "cell_type": "code",
   "execution_count": 1,
   "metadata": {},
   "outputs": [
    {
     "data": {
      "text/plain": [
       "\"model_path1 = 'models/model6.tflite'\\nmodel_path2 = 'models/model4.tflite'\\nmodel_path3 = 'models/model5.tflite'\""
      ]
     },
     "execution_count": 1,
     "metadata": {},
     "output_type": "execute_result"
    }
   ],
   "source": [
    "import paho.mqtt.client as PahoMQTT\n",
    "import time\n",
    "from inference_client_test import inferenceMQTT\n",
    "import tensorflow as tf\n",
    "import numpy as np\n",
    "import pathlib\n",
    "import os\n",
    "\"\"\"model_path1 = 'models/model6.tflite'\n",
    "model_path2 = 'models/model4.tflite'\n",
    "model_path3 = 'models/model5.tflite'\"\"\"\n",
    "\n",
    "#subscribe_topics = ['/1group11IOTHW3/prep_sample']"
   ]
  },
  {
   "cell_type": "code",
   "execution_count": null,
   "metadata": {},
   "outputs": [],
   "source": [
    "publish_topic = '/1group11IOTHW3/model/1'\n",
    "\n",
    "model_client1 = inferenceMQTT('model1', subscribe_topics,  publish_topic, model_path1, 0)\n",
    "model_client1.start()"
   ]
  },
  {
   "cell_type": "code",
   "execution_count": null,
   "metadata": {},
   "outputs": [],
   "source": [
    "publish_topic = '/1group11IOTHW3/model/2'\n",
    "\n",
    "model_client2 = inferenceMQTT('model2', subscribe_topics,  publish_topic, model_path2, 0)\n",
    "model_client2.start()"
   ]
  },
  {
   "cell_type": "code",
   "execution_count": null,
   "metadata": {
    "scrolled": true
   },
   "outputs": [],
   "source": [
    "publish_topic = '/1group11IOTHW3/model/3'\n",
    "\n",
    "model_client3 = inferenceMQTT('model3', subscribe_topics,  publish_topic, model_path3, 0)\n",
    "model_client3.start()"
   ]
  },
  {
   "cell_type": "code",
   "execution_count": null,
   "metadata": {},
   "outputs": [],
   "source": [
    "publish_topic = '/1group11IOTHW3/model/4'\n",
    "\n",
    "model_client4 = inferenceMQTT('model4', subscribe_topics,  publish_topic, model_path, 0)\n",
    "model_client4.start()"
   ]
  },
  {
   "cell_type": "code",
   "execution_count": 3,
   "metadata": {},
   "outputs": [
    {
     "name": "stdout",
     "output_type": "stream",
     "text": [
      "Connected to mqtt.eclipseprojects.io with result code: 0\n"
     ]
    }
   ],
   "source": [
    "model_path ='model1.tflite'\n",
    "\n",
    "# define subsscribed and publish topics\n",
    "model_n = model_path.split('.')[0][-1]\n",
    "subscribed_to, publish_on = ['/group11IoTHW32020/prep_sample'], '/group11IoTHW32020/model/'+model_n\n",
    "    \n",
    "# initialize and start the inference client\n",
    "inf_options = {\n",
    "    'clientID': 'model' + model_n,\n",
    "    'subscribe_topics': subscribed_to,\n",
    "    'publish_topic': publish_on,\n",
    "    'model_path': model_path,\n",
    "    'QoS': 0\n",
    "}\n",
    "    \n",
    "inference_client = inferenceMQTT(**inf_options)\n",
    "inference_client.start()"
   ]
  },
  {
   "cell_type": "code",
   "execution_count": null,
   "metadata": {},
   "outputs": [],
   "source": []
  }
 ],
 "metadata": {
  "kernelspec": {
   "display_name": "Python 3",
   "language": "python",
   "name": "python3"
  },
  "language_info": {
   "codemirror_mode": {
    "name": "ipython",
    "version": 3
   },
   "file_extension": ".py",
   "mimetype": "text/x-python",
   "name": "python",
   "nbconvert_exporter": "python",
   "pygments_lexer": "ipython3",
   "version": "3.8.5"
  }
 },
 "nbformat": 4,
 "nbformat_minor": 4
}
