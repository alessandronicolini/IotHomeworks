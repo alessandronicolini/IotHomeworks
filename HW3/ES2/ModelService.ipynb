{
 "cells": [
  {
   "cell_type": "code",
   "execution_count": 1,
   "metadata": {},
   "outputs": [],
   "source": [
    "import paho.mqtt.client as PahoMQTT\n",
    "import time\n",
    "from inferenceMQTT import inferenceMQTT\n",
    "import tensorflow as tf\n",
    "import numpy as np\n",
    "import pathlib\n",
    "import os\n",
    "model_path1 = 'models/model1.tflite'\n",
    "model_path2 = 'models/model2.tflite'\n",
    "model_path3 = 'models/model3.tflite'\n",
    "subscribe_topics = ['/1group11IOTHW3/prep_sample']"
   ]
  },
  {
   "cell_type": "code",
   "execution_count": 2,
   "metadata": {},
   "outputs": [
    {
     "name": "stdout",
     "output_type": "stream",
     "text": [
      "Connected to mqtt.eclipseprojects.io with result code: 0\n"
     ]
    }
   ],
   "source": [
    "publish_topic = '/1group11IOTHW3/model/1'\n",
    "\n",
    "model_client1 = inferenceMQTT('model1', subscribe_topics,  publish_topic, model_path1, 0)\n",
    "model_client1.start()"
   ]
  },
  {
   "cell_type": "code",
   "execution_count": 3,
   "metadata": {},
   "outputs": [
    {
     "name": "stdout",
     "output_type": "stream",
     "text": [
      "Connected to mqtt.eclipseprojects.io with result code: 0\n"
     ]
    }
   ],
   "source": [
    "publish_topic = '/1group11IOTHW3/model/2'\n",
    "\n",
    "model_client2 = inferenceMQTT('model2', subscribe_topics,  publish_topic, model_path2, 0)\n",
    "model_client2.start()"
   ]
  },
  {
   "cell_type": "code",
   "execution_count": 4,
   "metadata": {},
   "outputs": [
    {
     "name": "stdout",
     "output_type": "stream",
     "text": [
      "Connected to mqtt.eclipseprojects.io with result code: 0\n",
      "model3 :stopped and disconnected\n",
      "model1 :stopped and disconnected\n",
      "model2 :stopped and disconnected\n"
     ]
    }
   ],
   "source": [
    "publish_topic = '/1group11IOTHW3/model/3'\n",
    "\n",
    "model_client3 = inferenceMQTT('model3', subscribe_topics,  publish_topic, model_path3, 0)\n",
    "model_client3.start()"
   ]
  },
  {
   "cell_type": "code",
   "execution_count": null,
   "metadata": {},
   "outputs": [],
   "source": [
    "publish_topic = '/1group11IOTHW3/model/4'\n",
    "\n",
    "model_client4 = inferenceMQTT('model4', subscribe_topics,  publish_topic, model_path, 0)\n",
    "model_client4.start()"
   ]
  }
 ],
 "metadata": {
  "kernelspec": {
   "display_name": "Python 3",
   "language": "python",
   "name": "python3"
  },
  "language_info": {
   "codemirror_mode": {
    "name": "ipython",
    "version": 3
   },
   "file_extension": ".py",
   "mimetype": "text/x-python",
   "name": "python",
   "nbconvert_exporter": "python",
   "pygments_lexer": "ipython3",
   "version": "3.8.5"
  }
 },
 "nbformat": 4,
 "nbformat_minor": 4
}
