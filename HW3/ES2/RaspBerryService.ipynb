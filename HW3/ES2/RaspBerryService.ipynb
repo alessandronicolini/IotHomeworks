{
 "cells": [
  {
   "cell_type": "code",
   "execution_count": null,
   "metadata": {},
   "outputs": [],
   "source": [
    "import paho.mqtt.client as PahoMQTT\n",
    "import time\n",
    "from raspClient import raspClient\n",
    "from dataset import SignalGenerator\n",
    "import tensorflow as tf\n",
    "import numpy as np\n",
    "import pathlib\n",
    "import os\n",
    "import datetime\n",
    "from datetime import timezone\n",
    "import json\n",
    "from collections import Counter"
   ]
  },
  {
   "cell_type": "code",
   "execution_count": null,
   "metadata": {},
   "outputs": [],
   "source": [
    "# DATASET PREPARATION -----------------------------------------\n",
    "seed = 42\n",
    "tf.random.set_seed(seed)\n",
    "np.random.seed(seed)\n",
    "\n",
    "# download dataset\n",
    "data_dir = pathlib.Path('data/mini_speech_commands')\n",
    "if not data_dir.exists():\n",
    "  tf.keras.utils.get_file(\n",
    "      'mini_speech_commands.zip',\n",
    "      origin=\"http://storage.googleapis.com/download.tensorflow.org/data/mini_speech_commands.zip\",\n",
    "      extract=True,\n",
    "      cache_dir='.', cache_subdir='data')\n",
    "\n",
    "# lista di test\n",
    "test_list=[]\n",
    "file=open(\"./kws_test_split.txt\")\n",
    "for line in file:\n",
    "  test_list.append('.'+line[1:-1])\n",
    "\n",
    "# lista di labels - da replicare in EX1\n",
    "labels = open('labels.txt').readlines()[0].split() \n",
    "print(labels)\n",
    "\n",
    "MFCC_OPTIONS = {\n",
    "    'frame_length': 640, \n",
    "    'frame_step': 320, \n",
    "    'mfcc': True,\n",
    "    'lower_frequency': 20, \n",
    "    'upper_frequency': 4000, \n",
    "    'num_mel_bins': 40,\n",
    "    'num_coefficients': 10\n",
    "}\n",
    "\n",
    "# make test dataset\n",
    "generator = SignalGenerator(labels, 16000, **MFCC_OPTIONS)     \n",
    "test_ds = generator.make_dataset(test_list, False)\n",
    "\n",
    "# COOPERATIVE CLIENT (RASP)----------------------------------------------------------------\n",
    "timestamp = int(datetime.datetime.now(timezone.utc).timestamp())\n",
    "device_name = 'rasp'\n",
    "\n",
    "subscribe_topics, publish_topic = ['/group11IOTHW3/model/1', \n",
    "                                   '/group11IOTHW3/model/2',\n",
    "                                   '/group11IOTHW3/model/3',\n",
    "                                   '/group11IOTHW3/model/4'], '/group11IOTHW3/prep_sample'\n",
    "\n",
    "rasp = raspClient('raspClient', subscribe_topics, publish_topic, 4)\n",
    "rasp.start()\n",
    "\n",
    "for i, (mfcc, label) in enumerate(test_ds):\n",
    "    senml_msg = {\n",
    "        \"bn\" : device_name,\n",
    "        \"bt\" : timestamp,\n",
    "        \"e\" :[{\"n\":\"audio\", \"u\":\"/\", \"t\":0, \"vd\":mfcc.numpy().tolist(), 'idx': i}]\n",
    "        }\n",
    "    senml_msg = json.dumps(senml_msg)\n",
    "    rasp.myPublish(publish_topic, senml_msg, i, label.numpy())\n",
    "    \n",
    "    time.sleep(0.1) # tune this parameter"
   ]
  },
  {
   "cell_type": "code",
   "execution_count": null,
   "metadata": {},
   "outputs": [],
   "source": [
    "from collections import Counter\n",
    "import numpy as np\n",
    "a = [1,2,3,4,3,4,4,5,5,1,2,2,2]\n",
    "counter = Counter(a)\n",
    "elements = list(counter.items())\n",
    "elements.sort(key= lambda x:x[1], reverse=True)\n",
    "elements[0][0]"
   ]
  },
  {
   "cell_type": "code",
   "execution_count": null,
   "metadata": {},
   "outputs": [],
   "source": [
    "a = dict()\n",
    "a['a']"
   ]
  },
  {
   "cell_type": "code",
   "execution_count": null,
   "metadata": {},
   "outputs": [],
   "source": []
  }
 ],
 "metadata": {
  "kernelspec": {
   "display_name": "Python 3",
   "language": "python",
   "name": "python3"
  },
  "language_info": {
   "codemirror_mode": {
    "name": "ipython",
    "version": 3
   },
   "file_extension": ".py",
   "mimetype": "text/x-python",
   "name": "python",
   "nbconvert_exporter": "python",
   "pygments_lexer": "ipython3",
   "version": "3.8.5"
  }
 },
 "nbformat": 4,
 "nbformat_minor": 4
}
