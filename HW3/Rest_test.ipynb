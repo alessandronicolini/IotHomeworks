{
 "cells": [
  {
   "cell_type": "code",
   "execution_count": 1,
   "metadata": {},
   "outputs": [],
   "source": [
    "import cherrypy"
   ]
  },
  {
   "cell_type": "code",
   "execution_count": null,
   "metadata": {},
   "outputs": [
    {
     "name": "stderr",
     "output_type": "stream",
     "text": [
      "[13/Jan/2021:18:21:41] ENGINE Bus STARTING\n",
      "[13/Jan/2021:18:21:42] ENGINE Started monitor thread 'Autoreloader'.\n",
      "[13/Jan/2021:18:21:42] ENGINE Serving on http://127.0.0.1:8080\n",
      "[13/Jan/2021:18:21:42] ENGINE Bus STARTED\n"
     ]
    }
   ],
   "source": [
    "class myService(object):\n",
    "    @cherrypy.expose\n",
    "    def GET(self, *path, **query):\n",
    "        #return('path '+str(path)+' query '+str(query))\n",
    "        return('ciao')\n",
    "    \n",
    "    def POST(self, *path, **query):\n",
    "        pass\n",
    "    \n",
    "    def PUT(self, *path, **query):\n",
    "        pass\n",
    "    \n",
    "    def DELETE(self, *path, **query):\n",
    "        pass\n",
    "\n",
    "    \n",
    "if __name__=='__main__':\n",
    "    conf = {\n",
    "        '/': {\n",
    "            'request.dispatch': cherrypy.dispatch.MethodDispatcher(),\n",
    "            'tools.sessions.on': True\n",
    "        }\n",
    "    }\n",
    "    cherrypy.tree.mount(myService(),'/string', conf)\n",
    "    cherrypy.config.update({'server.socket_host': '127.0.0.1'})\n",
    "    cherrypy.config.update({'server.socket_port': 8080})\n",
    "    cherrypy.engine.start()\n",
    "    cherrypy.engine.block()"
   ]
  },
  {
   "cell_type": "code",
   "execution_count": 2,
   "metadata": {},
   "outputs": [
    {
     "name": "stderr",
     "output_type": "stream",
     "text": [
      "[13/Jan/2021:18:17:56] ENGINE Listening for SIGTERM.\n",
      "[13/Jan/2021:18:17:56] ENGINE Listening for SIGHUP.\n",
      "[13/Jan/2021:18:17:56] ENGINE Listening for SIGUSR1.\n",
      "[13/Jan/2021:18:17:56] ENGINE Bus STARTING\n",
      "CherryPy Checker:\n",
      "The Application mounted at '' has an empty config.\n",
      "\n",
      "[13/Jan/2021:18:17:56] ENGINE Started monitor thread 'Autoreloader'.\n",
      "[13/Jan/2021:18:17:56] ENGINE Serving on http://127.0.0.1:8080\n",
      "[13/Jan/2021:18:17:56] ENGINE Bus STARTED\n"
     ]
    },
    {
     "name": "stdout",
     "output_type": "stream",
     "text": [
      "127.0.0.1 - - [13/Jan/2021:18:17:59] \"GET / HTTP/1.1\" 200 12 \"http://localhost:8889/\" \"Mozilla/5.0 (X11; Linux x86_64) AppleWebKit/537.36 (KHTML, like Gecko) Chrome/87.0.4280.141 Safari/537.36\"\n",
      "127.0.0.1 - - [13/Jan/2021:18:18:00] \"GET /favicon.ico HTTP/1.1\" 200 1406 \"http://127.0.0.1:8080/\" \"Mozilla/5.0 (X11; Linux x86_64) AppleWebKit/537.36 (KHTML, like Gecko) Chrome/87.0.4280.141 Safari/537.36\"\n"
     ]
    },
    {
     "name": "stderr",
     "output_type": "stream",
     "text": [
      "[13/Jan/2021:18:18:34] ENGINE Keyboard Interrupt: shutting down bus\n",
      "[13/Jan/2021:18:18:34] ENGINE Bus STOPPING\n",
      "[13/Jan/2021:18:18:34] ENGINE HTTP Server cherrypy._cpwsgi_server.CPWSGIServer(('127.0.0.1', 8080)) shut down\n",
      "[13/Jan/2021:18:18:34] ENGINE Stopped thread 'Autoreloader'.\n",
      "[13/Jan/2021:18:18:34] ENGINE Bus STOPPED\n",
      "[13/Jan/2021:18:18:34] ENGINE Bus EXITING\n",
      "[13/Jan/2021:18:18:34] ENGINE Bus EXITED\n",
      "[13/Jan/2021:18:18:34] ENGINE Waiting for child threads to terminate...\n"
     ]
    }
   ],
   "source": [
    "import cherrypy\n",
    "\n",
    "\n",
    "class HelloWorld(object):\n",
    "    @cherrypy.expose\n",
    "    def index(self):\n",
    "        return \"Hello world!\"\n",
    "\n",
    "\n",
    "if __name__ == '__main__':\n",
    "    cherrypy.quickstart(HelloWorld())"
   ]
  },
  {
   "cell_type": "code",
   "execution_count": null,
   "metadata": {},
   "outputs": [],
   "source": []
  }
 ],
 "metadata": {
  "kernelspec": {
   "display_name": "Python 3",
   "language": "python",
   "name": "python3"
  },
  "language_info": {
   "codemirror_mode": {
    "name": "ipython",
    "version": 3
   },
   "file_extension": ".py",
   "mimetype": "text/x-python",
   "name": "python",
   "nbconvert_exporter": "python",
   "pygments_lexer": "ipython3",
   "version": "3.8.5"
  }
 },
 "nbformat": 4,
 "nbformat_minor": 4
}
