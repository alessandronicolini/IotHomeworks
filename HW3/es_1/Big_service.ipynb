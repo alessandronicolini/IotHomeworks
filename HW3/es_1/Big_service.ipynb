{
 "cells": [
  {
   "cell_type": "code",
   "execution_count": 8,
   "metadata": {},
   "outputs": [],
   "source": [
    "import cherrypy\n",
    "import json"
   ]
  },
  {
   "cell_type": "code",
   "execution_count": 9,
   "metadata": {},
   "outputs": [],
   "source": [
    "class myService(object):\n",
    "    exposed = True\n",
    "    \n",
    "    def GET(self, *path, **query):\n",
    "        \n",
    "        return(\"ciao\")\n",
    "    \n",
    "    def POST(self, *path, **query):\n",
    "        # receives a json containing a raw audio file\n",
    "        # reads the body of the http request\n",
    "        # processes the audio file as mfcc\n",
    "        # runs inference with big model using mfcc as input\n",
    "        # returns the values of the last layer of the neural network\n",
    "        \n",
    "        ##simplified version\n",
    "        \n",
    "        # read the http body and return a json string\n",
    "        req = cherrypy.request.body.read()\n",
    "        # convert the json string into python dictionary\n",
    "        body = json.loads(req)\n",
    "        \n",
    "        \n",
    "        return body[\"bt\"]\n",
    "    \n",
    "    def PUT(self, *path, **query):\n",
    "        pass\n",
    "    \n",
    "    def DELETE(self, *path, **query):\n",
    "        pass\n",
    "    "
   ]
  },
  {
   "cell_type": "code",
   "execution_count": 10,
   "metadata": {},
   "outputs": [
    {
     "name": "stderr",
     "output_type": "stream",
     "text": [
      "[15/Jan/2021:14:59:57] ENGINE Bus STARTING\n",
      "[15/Jan/2021:14:59:57] ENGINE Started monitor thread 'Autoreloader'.\n",
      "[15/Jan/2021:14:59:58] ENGINE Serving on http://127.0.0.1:8080\n",
      "[15/Jan/2021:14:59:58] ENGINE Bus STARTED\n",
      "[15/Jan/2021:15:00:01] HTTP \n",
      "Traceback (most recent call last):\n",
      "  File \"/home/giacomozema/.local/lib/python3.8/site-packages/cherrypy/_cprequest.py\", line 638, in respond\n",
      "    self._do_respond(path_info)\n",
      "  File \"/home/giacomozema/.local/lib/python3.8/site-packages/cherrypy/_cprequest.py\", line 697, in _do_respond\n",
      "    response.body = self.handler()\n",
      "  File \"/home/giacomozema/.local/lib/python3.8/site-packages/cherrypy/lib/encoding.py\", line 219, in __call__\n",
      "    self.body = self.oldhandler(*args, **kwargs)\n",
      "  File \"/home/giacomozema/.local/lib/python3.8/site-packages/cherrypy/_cpdispatch.py\", line 54, in __call__\n",
      "    return self.callable(*self.args, **self.kwargs)\n",
      "  File \"<ipython-input-9-09deb7e848d3>\", line 23, in POST\n",
      "    return body[\"bt\"]\n",
      "TypeError: string indices must be integers\n",
      "[15/Jan/2021:15:00:01] HTTP \n",
      "Request Headers:\n",
      "  Remote-Addr: 127.0.0.1\n",
      "  HOST: 127.0.0.1:8080\n",
      "  USER-AGENT: python-requests/2.22.0\n",
      "  ACCEPT-ENCODING: gzip, deflate\n",
      "  ACCEPT: */*\n",
      "  CONNECTION: keep-alive\n",
      "  Content-Type: application/json\n",
      "  Content-Length: 42840\n"
     ]
    },
    {
     "name": "stdout",
     "output_type": "stream",
     "text": [
      "127.0.0.1 - - [15/Jan/2021:15:00:01] \"POST / HTTP/1.1\" 500 1592 \"\" \"python-requests/2.22.0\"\n"
     ]
    },
    {
     "name": "stderr",
     "output_type": "stream",
     "text": [
      "[15/Jan/2021:15:00:02] HTTP \n",
      "Traceback (most recent call last):\n",
      "  File \"/home/giacomozema/.local/lib/python3.8/site-packages/cherrypy/_cprequest.py\", line 638, in respond\n",
      "    self._do_respond(path_info)\n",
      "  File \"/home/giacomozema/.local/lib/python3.8/site-packages/cherrypy/_cprequest.py\", line 697, in _do_respond\n",
      "    response.body = self.handler()\n",
      "  File \"/home/giacomozema/.local/lib/python3.8/site-packages/cherrypy/lib/encoding.py\", line 219, in __call__\n",
      "    self.body = self.oldhandler(*args, **kwargs)\n",
      "  File \"/home/giacomozema/.local/lib/python3.8/site-packages/cherrypy/_cpdispatch.py\", line 54, in __call__\n",
      "    return self.callable(*self.args, **self.kwargs)\n",
      "  File \"<ipython-input-9-09deb7e848d3>\", line 23, in POST\n",
      "    return body[\"bt\"]\n",
      "TypeError: string indices must be integers\n",
      "[15/Jan/2021:15:00:02] HTTP \n",
      "Request Headers:\n",
      "  Remote-Addr: 127.0.0.1\n",
      "  HOST: 127.0.0.1:8080\n",
      "  USER-AGENT: python-requests/2.22.0\n",
      "  ACCEPT-ENCODING: gzip, deflate\n",
      "  ACCEPT: */*\n",
      "  CONNECTION: keep-alive\n",
      "  Content-Type: application/json\n",
      "  Content-Length: 42840\n"
     ]
    },
    {
     "name": "stdout",
     "output_type": "stream",
     "text": [
      "127.0.0.1 - - [15/Jan/2021:15:00:02] \"POST / HTTP/1.1\" 500 1592 \"\" \"python-requests/2.22.0\"\n"
     ]
    },
    {
     "name": "stderr",
     "output_type": "stream",
     "text": [
      "[15/Jan/2021:15:00:03] HTTP \n",
      "Traceback (most recent call last):\n",
      "  File \"/home/giacomozema/.local/lib/python3.8/site-packages/cherrypy/_cprequest.py\", line 638, in respond\n",
      "    self._do_respond(path_info)\n",
      "  File \"/home/giacomozema/.local/lib/python3.8/site-packages/cherrypy/_cprequest.py\", line 697, in _do_respond\n",
      "    response.body = self.handler()\n",
      "  File \"/home/giacomozema/.local/lib/python3.8/site-packages/cherrypy/lib/encoding.py\", line 219, in __call__\n",
      "    self.body = self.oldhandler(*args, **kwargs)\n",
      "  File \"/home/giacomozema/.local/lib/python3.8/site-packages/cherrypy/_cpdispatch.py\", line 54, in __call__\n",
      "    return self.callable(*self.args, **self.kwargs)\n",
      "  File \"<ipython-input-9-09deb7e848d3>\", line 23, in POST\n",
      "    return body[\"bt\"]\n",
      "TypeError: string indices must be integers\n",
      "[15/Jan/2021:15:00:03] HTTP \n",
      "Request Headers:\n",
      "  Remote-Addr: 127.0.0.1\n",
      "  HOST: 127.0.0.1:8080\n",
      "  USER-AGENT: python-requests/2.22.0\n",
      "  ACCEPT-ENCODING: gzip, deflate\n",
      "  ACCEPT: */*\n",
      "  CONNECTION: keep-alive\n",
      "  Content-Type: application/json\n",
      "  Content-Length: 42840\n"
     ]
    },
    {
     "name": "stdout",
     "output_type": "stream",
     "text": [
      "127.0.0.1 - - [15/Jan/2021:15:00:03] \"POST / HTTP/1.1\" 500 1592 \"\" \"python-requests/2.22.0\"\n"
     ]
    },
    {
     "name": "stderr",
     "output_type": "stream",
     "text": [
      "[15/Jan/2021:15:00:04] HTTP \n",
      "Traceback (most recent call last):\n",
      "  File \"/home/giacomozema/.local/lib/python3.8/site-packages/cherrypy/_cprequest.py\", line 638, in respond\n",
      "    self._do_respond(path_info)\n",
      "  File \"/home/giacomozema/.local/lib/python3.8/site-packages/cherrypy/_cprequest.py\", line 697, in _do_respond\n",
      "    response.body = self.handler()\n",
      "  File \"/home/giacomozema/.local/lib/python3.8/site-packages/cherrypy/lib/encoding.py\", line 219, in __call__\n",
      "    self.body = self.oldhandler(*args, **kwargs)\n",
      "  File \"/home/giacomozema/.local/lib/python3.8/site-packages/cherrypy/_cpdispatch.py\", line 54, in __call__\n",
      "    return self.callable(*self.args, **self.kwargs)\n",
      "  File \"<ipython-input-9-09deb7e848d3>\", line 23, in POST\n",
      "    return body[\"bt\"]\n",
      "TypeError: string indices must be integers\n",
      "[15/Jan/2021:15:00:05] HTTP \n",
      "Request Headers:\n",
      "  Remote-Addr: 127.0.0.1\n",
      "  HOST: 127.0.0.1:8080\n",
      "  USER-AGENT: python-requests/2.22.0\n",
      "  ACCEPT-ENCODING: gzip, deflate\n",
      "  ACCEPT: */*\n",
      "  CONNECTION: keep-alive\n",
      "  Content-Type: application/json\n",
      "  Content-Length: 42840\n"
     ]
    },
    {
     "name": "stdout",
     "output_type": "stream",
     "text": [
      "127.0.0.1 - - [15/Jan/2021:15:00:05] \"POST / HTTP/1.1\" 500 1592 \"\" \"python-requests/2.22.0\"\n"
     ]
    },
    {
     "name": "stderr",
     "output_type": "stream",
     "text": [
      "[15/Jan/2021:15:00:06] HTTP \n",
      "Traceback (most recent call last):\n",
      "  File \"/home/giacomozema/.local/lib/python3.8/site-packages/cherrypy/_cprequest.py\", line 638, in respond\n",
      "    self._do_respond(path_info)\n",
      "  File \"/home/giacomozema/.local/lib/python3.8/site-packages/cherrypy/_cprequest.py\", line 697, in _do_respond\n",
      "    response.body = self.handler()\n",
      "  File \"/home/giacomozema/.local/lib/python3.8/site-packages/cherrypy/lib/encoding.py\", line 219, in __call__\n",
      "    self.body = self.oldhandler(*args, **kwargs)\n",
      "  File \"/home/giacomozema/.local/lib/python3.8/site-packages/cherrypy/_cpdispatch.py\", line 54, in __call__\n",
      "    return self.callable(*self.args, **self.kwargs)\n",
      "  File \"<ipython-input-9-09deb7e848d3>\", line 23, in POST\n",
      "    return body[\"bt\"]\n",
      "TypeError: string indices must be integers\n",
      "[15/Jan/2021:15:00:06] HTTP \n",
      "Request Headers:\n",
      "  Remote-Addr: 127.0.0.1\n",
      "  HOST: 127.0.0.1:8080\n",
      "  USER-AGENT: python-requests/2.22.0\n",
      "  ACCEPT-ENCODING: gzip, deflate\n",
      "  ACCEPT: */*\n",
      "  CONNECTION: keep-alive\n",
      "  Content-Type: application/json\n",
      "  Content-Length: 42840\n"
     ]
    },
    {
     "name": "stdout",
     "output_type": "stream",
     "text": [
      "127.0.0.1 - - [15/Jan/2021:15:00:06] \"POST / HTTP/1.1\" 500 1592 \"\" \"python-requests/2.22.0\"\n"
     ]
    },
    {
     "name": "stderr",
     "output_type": "stream",
     "text": [
      "[15/Jan/2021:15:00:07] HTTP \n",
      "Traceback (most recent call last):\n",
      "  File \"/home/giacomozema/.local/lib/python3.8/site-packages/cherrypy/_cprequest.py\", line 638, in respond\n",
      "    self._do_respond(path_info)\n",
      "  File \"/home/giacomozema/.local/lib/python3.8/site-packages/cherrypy/_cprequest.py\", line 697, in _do_respond\n",
      "    response.body = self.handler()\n",
      "  File \"/home/giacomozema/.local/lib/python3.8/site-packages/cherrypy/lib/encoding.py\", line 219, in __call__\n",
      "    self.body = self.oldhandler(*args, **kwargs)\n",
      "  File \"/home/giacomozema/.local/lib/python3.8/site-packages/cherrypy/_cpdispatch.py\", line 54, in __call__\n",
      "    return self.callable(*self.args, **self.kwargs)\n",
      "  File \"<ipython-input-9-09deb7e848d3>\", line 23, in POST\n",
      "    return body[\"bt\"]\n",
      "TypeError: string indices must be integers\n",
      "[15/Jan/2021:15:00:07] HTTP \n",
      "Request Headers:\n",
      "  Remote-Addr: 127.0.0.1\n",
      "  HOST: 127.0.0.1:8080\n",
      "  USER-AGENT: python-requests/2.22.0\n",
      "  ACCEPT-ENCODING: gzip, deflate\n",
      "  ACCEPT: */*\n",
      "  CONNECTION: keep-alive\n",
      "  Content-Type: application/json\n",
      "  Content-Length: 42840\n"
     ]
    },
    {
     "name": "stdout",
     "output_type": "stream",
     "text": [
      "127.0.0.1 - - [15/Jan/2021:15:00:07] \"POST / HTTP/1.1\" 500 1592 \"\" \"python-requests/2.22.0\"\n"
     ]
    },
    {
     "name": "stderr",
     "output_type": "stream",
     "text": [
      "[15/Jan/2021:15:00:08] HTTP \n",
      "Traceback (most recent call last):\n",
      "  File \"/home/giacomozema/.local/lib/python3.8/site-packages/cherrypy/_cprequest.py\", line 638, in respond\n",
      "    self._do_respond(path_info)\n",
      "  File \"/home/giacomozema/.local/lib/python3.8/site-packages/cherrypy/_cprequest.py\", line 697, in _do_respond\n",
      "    response.body = self.handler()\n",
      "  File \"/home/giacomozema/.local/lib/python3.8/site-packages/cherrypy/lib/encoding.py\", line 219, in __call__\n",
      "    self.body = self.oldhandler(*args, **kwargs)\n",
      "  File \"/home/giacomozema/.local/lib/python3.8/site-packages/cherrypy/_cpdispatch.py\", line 54, in __call__\n",
      "    return self.callable(*self.args, **self.kwargs)\n",
      "  File \"<ipython-input-9-09deb7e848d3>\", line 23, in POST\n",
      "    return body[\"bt\"]\n",
      "TypeError: string indices must be integers\n",
      "[15/Jan/2021:15:00:08] HTTP \n",
      "Request Headers:\n",
      "  Remote-Addr: 127.0.0.1\n",
      "  HOST: 127.0.0.1:8080\n",
      "  USER-AGENT: python-requests/2.22.0\n",
      "  ACCEPT-ENCODING: gzip, deflate\n",
      "  ACCEPT: */*\n",
      "  CONNECTION: keep-alive\n",
      "  Content-Type: application/json\n",
      "  Content-Length: 42840\n"
     ]
    },
    {
     "name": "stdout",
     "output_type": "stream",
     "text": [
      "127.0.0.1 - - [15/Jan/2021:15:00:08] \"POST / HTTP/1.1\" 500 1592 \"\" \"python-requests/2.22.0\"\n"
     ]
    },
    {
     "name": "stderr",
     "output_type": "stream",
     "text": [
      "[15/Jan/2021:15:00:09] HTTP \n",
      "Traceback (most recent call last):\n",
      "  File \"/home/giacomozema/.local/lib/python3.8/site-packages/cherrypy/_cprequest.py\", line 638, in respond\n",
      "    self._do_respond(path_info)\n",
      "  File \"/home/giacomozema/.local/lib/python3.8/site-packages/cherrypy/_cprequest.py\", line 697, in _do_respond\n",
      "    response.body = self.handler()\n",
      "  File \"/home/giacomozema/.local/lib/python3.8/site-packages/cherrypy/lib/encoding.py\", line 219, in __call__\n",
      "    self.body = self.oldhandler(*args, **kwargs)\n",
      "  File \"/home/giacomozema/.local/lib/python3.8/site-packages/cherrypy/_cpdispatch.py\", line 54, in __call__\n",
      "    return self.callable(*self.args, **self.kwargs)\n",
      "  File \"<ipython-input-9-09deb7e848d3>\", line 23, in POST\n",
      "    return body[\"bt\"]\n",
      "TypeError: string indices must be integers\n",
      "[15/Jan/2021:15:00:09] HTTP \n",
      "Request Headers:\n",
      "  Remote-Addr: 127.0.0.1\n",
      "  HOST: 127.0.0.1:8080\n",
      "  USER-AGENT: python-requests/2.22.0\n",
      "  ACCEPT-ENCODING: gzip, deflate\n",
      "  ACCEPT: */*\n",
      "  CONNECTION: keep-alive\n",
      "  Content-Type: application/json\n",
      "  Content-Length: 42840\n"
     ]
    },
    {
     "name": "stdout",
     "output_type": "stream",
     "text": [
      "127.0.0.1 - - [15/Jan/2021:15:00:09] \"POST / HTTP/1.1\" 500 1592 \"\" \"python-requests/2.22.0\"\n"
     ]
    },
    {
     "name": "stderr",
     "output_type": "stream",
     "text": [
      "[15/Jan/2021:15:00:10] HTTP \n",
      "Traceback (most recent call last):\n",
      "  File \"/home/giacomozema/.local/lib/python3.8/site-packages/cherrypy/_cprequest.py\", line 638, in respond\n",
      "    self._do_respond(path_info)\n",
      "  File \"/home/giacomozema/.local/lib/python3.8/site-packages/cherrypy/_cprequest.py\", line 697, in _do_respond\n",
      "    response.body = self.handler()\n",
      "  File \"/home/giacomozema/.local/lib/python3.8/site-packages/cherrypy/lib/encoding.py\", line 219, in __call__\n",
      "    self.body = self.oldhandler(*args, **kwargs)\n",
      "  File \"/home/giacomozema/.local/lib/python3.8/site-packages/cherrypy/_cpdispatch.py\", line 54, in __call__\n",
      "    return self.callable(*self.args, **self.kwargs)\n",
      "  File \"<ipython-input-9-09deb7e848d3>\", line 23, in POST\n",
      "    return body[\"bt\"]\n",
      "TypeError: string indices must be integers\n",
      "[15/Jan/2021:15:00:10] HTTP \n",
      "Request Headers:\n",
      "  Remote-Addr: 127.0.0.1\n",
      "  HOST: 127.0.0.1:8080\n",
      "  USER-AGENT: python-requests/2.22.0\n",
      "  ACCEPT-ENCODING: gzip, deflate\n",
      "  ACCEPT: */*\n",
      "  CONNECTION: keep-alive\n",
      "  Content-Type: application/json\n",
      "  Content-Length: 42840\n"
     ]
    },
    {
     "name": "stdout",
     "output_type": "stream",
     "text": [
      "127.0.0.1 - - [15/Jan/2021:15:00:10] \"POST / HTTP/1.1\" 500 1592 \"\" \"python-requests/2.22.0\"\n"
     ]
    },
    {
     "name": "stderr",
     "output_type": "stream",
     "text": [
      "[15/Jan/2021:15:00:11] HTTP \n",
      "Traceback (most recent call last):\n",
      "  File \"/home/giacomozema/.local/lib/python3.8/site-packages/cherrypy/_cprequest.py\", line 638, in respond\n",
      "    self._do_respond(path_info)\n",
      "  File \"/home/giacomozema/.local/lib/python3.8/site-packages/cherrypy/_cprequest.py\", line 697, in _do_respond\n",
      "    response.body = self.handler()\n",
      "  File \"/home/giacomozema/.local/lib/python3.8/site-packages/cherrypy/lib/encoding.py\", line 219, in __call__\n",
      "    self.body = self.oldhandler(*args, **kwargs)\n",
      "  File \"/home/giacomozema/.local/lib/python3.8/site-packages/cherrypy/_cpdispatch.py\", line 54, in __call__\n",
      "    return self.callable(*self.args, **self.kwargs)\n",
      "  File \"<ipython-input-9-09deb7e848d3>\", line 23, in POST\n",
      "    return body[\"bt\"]\n",
      "TypeError: string indices must be integers\n",
      "[15/Jan/2021:15:00:11] HTTP \n",
      "Request Headers:\n",
      "  Remote-Addr: 127.0.0.1\n",
      "  HOST: 127.0.0.1:8080\n",
      "  USER-AGENT: python-requests/2.22.0\n",
      "  ACCEPT-ENCODING: gzip, deflate\n",
      "  ACCEPT: */*\n",
      "  CONNECTION: keep-alive\n",
      "  Content-Type: application/json\n",
      "  Content-Length: 42840\n"
     ]
    },
    {
     "name": "stdout",
     "output_type": "stream",
     "text": [
      "127.0.0.1 - - [15/Jan/2021:15:00:11] \"POST / HTTP/1.1\" 500 1592 \"\" \"python-requests/2.22.0\"\n"
     ]
    },
    {
     "name": "stderr",
     "output_type": "stream",
     "text": [
      "[15/Jan/2021:15:00:12] HTTP \n",
      "Traceback (most recent call last):\n",
      "  File \"/home/giacomozema/.local/lib/python3.8/site-packages/cherrypy/_cprequest.py\", line 638, in respond\n",
      "    self._do_respond(path_info)\n",
      "  File \"/home/giacomozema/.local/lib/python3.8/site-packages/cherrypy/_cprequest.py\", line 697, in _do_respond\n",
      "    response.body = self.handler()\n",
      "  File \"/home/giacomozema/.local/lib/python3.8/site-packages/cherrypy/lib/encoding.py\", line 219, in __call__\n",
      "    self.body = self.oldhandler(*args, **kwargs)\n",
      "  File \"/home/giacomozema/.local/lib/python3.8/site-packages/cherrypy/_cpdispatch.py\", line 54, in __call__\n",
      "    return self.callable(*self.args, **self.kwargs)\n",
      "  File \"<ipython-input-9-09deb7e848d3>\", line 23, in POST\n",
      "    return body[\"bt\"]\n",
      "TypeError: string indices must be integers\n",
      "[15/Jan/2021:15:00:12] HTTP \n",
      "Request Headers:\n",
      "  Remote-Addr: 127.0.0.1\n",
      "  HOST: 127.0.0.1:8080\n",
      "  USER-AGENT: python-requests/2.22.0\n",
      "  ACCEPT-ENCODING: gzip, deflate\n",
      "  ACCEPT: */*\n",
      "  CONNECTION: keep-alive\n",
      "  Content-Type: application/json\n",
      "  Content-Length: 42840\n"
     ]
    },
    {
     "name": "stdout",
     "output_type": "stream",
     "text": [
      "127.0.0.1 - - [15/Jan/2021:15:00:12] \"POST / HTTP/1.1\" 500 1592 \"\" \"python-requests/2.22.0\"\n"
     ]
    },
    {
     "name": "stderr",
     "output_type": "stream",
     "text": [
      "[15/Jan/2021:15:00:13] HTTP \n",
      "Traceback (most recent call last):\n",
      "  File \"/home/giacomozema/.local/lib/python3.8/site-packages/cherrypy/_cprequest.py\", line 638, in respond\n",
      "    self._do_respond(path_info)\n",
      "  File \"/home/giacomozema/.local/lib/python3.8/site-packages/cherrypy/_cprequest.py\", line 697, in _do_respond\n",
      "    response.body = self.handler()\n",
      "  File \"/home/giacomozema/.local/lib/python3.8/site-packages/cherrypy/lib/encoding.py\", line 219, in __call__\n",
      "    self.body = self.oldhandler(*args, **kwargs)\n",
      "  File \"/home/giacomozema/.local/lib/python3.8/site-packages/cherrypy/_cpdispatch.py\", line 54, in __call__\n",
      "    return self.callable(*self.args, **self.kwargs)\n",
      "  File \"<ipython-input-9-09deb7e848d3>\", line 23, in POST\n",
      "    return body[\"bt\"]\n",
      "TypeError: string indices must be integers\n",
      "[15/Jan/2021:15:00:13] HTTP \n",
      "Request Headers:\n",
      "  Remote-Addr: 127.0.0.1\n",
      "  HOST: 127.0.0.1:8080\n",
      "  USER-AGENT: python-requests/2.22.0\n",
      "  ACCEPT-ENCODING: gzip, deflate\n",
      "  ACCEPT: */*\n",
      "  CONNECTION: keep-alive\n",
      "  Content-Type: application/json\n",
      "  Content-Length: 42840\n"
     ]
    },
    {
     "name": "stdout",
     "output_type": "stream",
     "text": [
      "127.0.0.1 - - [15/Jan/2021:15:00:13] \"POST / HTTP/1.1\" 500 1592 \"\" \"python-requests/2.22.0\"\n"
     ]
    },
    {
     "name": "stderr",
     "output_type": "stream",
     "text": [
      "[15/Jan/2021:15:00:14] HTTP \n",
      "Traceback (most recent call last):\n",
      "  File \"/home/giacomozema/.local/lib/python3.8/site-packages/cherrypy/_cprequest.py\", line 638, in respond\n",
      "    self._do_respond(path_info)\n",
      "  File \"/home/giacomozema/.local/lib/python3.8/site-packages/cherrypy/_cprequest.py\", line 697, in _do_respond\n",
      "    response.body = self.handler()\n",
      "  File \"/home/giacomozema/.local/lib/python3.8/site-packages/cherrypy/lib/encoding.py\", line 219, in __call__\n",
      "    self.body = self.oldhandler(*args, **kwargs)\n",
      "  File \"/home/giacomozema/.local/lib/python3.8/site-packages/cherrypy/_cpdispatch.py\", line 54, in __call__\n",
      "    return self.callable(*self.args, **self.kwargs)\n",
      "  File \"<ipython-input-9-09deb7e848d3>\", line 23, in POST\n",
      "    return body[\"bt\"]\n",
      "TypeError: string indices must be integers\n",
      "[15/Jan/2021:15:00:14] HTTP \n",
      "Request Headers:\n",
      "  Remote-Addr: 127.0.0.1\n",
      "  HOST: 127.0.0.1:8080\n",
      "  USER-AGENT: python-requests/2.22.0\n",
      "  ACCEPT-ENCODING: gzip, deflate\n",
      "  ACCEPT: */*\n",
      "  CONNECTION: keep-alive\n",
      "  Content-Type: application/json\n",
      "  Content-Length: 42840\n"
     ]
    },
    {
     "name": "stdout",
     "output_type": "stream",
     "text": [
      "127.0.0.1 - - [15/Jan/2021:15:00:14] \"POST / HTTP/1.1\" 500 1592 \"\" \"python-requests/2.22.0\"\n"
     ]
    },
    {
     "name": "stderr",
     "output_type": "stream",
     "text": [
      "[15/Jan/2021:15:00:15] HTTP \n",
      "Traceback (most recent call last):\n",
      "  File \"/home/giacomozema/.local/lib/python3.8/site-packages/cherrypy/_cprequest.py\", line 638, in respond\n",
      "    self._do_respond(path_info)\n",
      "  File \"/home/giacomozema/.local/lib/python3.8/site-packages/cherrypy/_cprequest.py\", line 697, in _do_respond\n",
      "    response.body = self.handler()\n",
      "  File \"/home/giacomozema/.local/lib/python3.8/site-packages/cherrypy/lib/encoding.py\", line 219, in __call__\n",
      "    self.body = self.oldhandler(*args, **kwargs)\n",
      "  File \"/home/giacomozema/.local/lib/python3.8/site-packages/cherrypy/_cpdispatch.py\", line 54, in __call__\n",
      "    return self.callable(*self.args, **self.kwargs)\n",
      "  File \"<ipython-input-9-09deb7e848d3>\", line 23, in POST\n",
      "    return body[\"bt\"]\n",
      "TypeError: string indices must be integers\n",
      "[15/Jan/2021:15:00:15] HTTP \n",
      "Request Headers:\n",
      "  Remote-Addr: 127.0.0.1\n",
      "  HOST: 127.0.0.1:8080\n",
      "  USER-AGENT: python-requests/2.22.0\n",
      "  ACCEPT-ENCODING: gzip, deflate\n",
      "  ACCEPT: */*\n",
      "  CONNECTION: keep-alive\n",
      "  Content-Type: application/json\n",
      "  Content-Length: 42840\n"
     ]
    },
    {
     "name": "stdout",
     "output_type": "stream",
     "text": [
      "127.0.0.1 - - [15/Jan/2021:15:00:15] \"POST / HTTP/1.1\" 500 1592 \"\" \"python-requests/2.22.0\"\n"
     ]
    },
    {
     "name": "stderr",
     "output_type": "stream",
     "text": [
      "[15/Jan/2021:15:00:16] HTTP \n",
      "Traceback (most recent call last):\n",
      "  File \"/home/giacomozema/.local/lib/python3.8/site-packages/cherrypy/_cprequest.py\", line 638, in respond\n",
      "    self._do_respond(path_info)\n",
      "  File \"/home/giacomozema/.local/lib/python3.8/site-packages/cherrypy/_cprequest.py\", line 697, in _do_respond\n",
      "    response.body = self.handler()\n",
      "  File \"/home/giacomozema/.local/lib/python3.8/site-packages/cherrypy/lib/encoding.py\", line 219, in __call__\n",
      "    self.body = self.oldhandler(*args, **kwargs)\n",
      "  File \"/home/giacomozema/.local/lib/python3.8/site-packages/cherrypy/_cpdispatch.py\", line 54, in __call__\n",
      "    return self.callable(*self.args, **self.kwargs)\n",
      "  File \"<ipython-input-9-09deb7e848d3>\", line 23, in POST\n",
      "    return body[\"bt\"]\n",
      "TypeError: string indices must be integers\n",
      "[15/Jan/2021:15:00:16] HTTP \n",
      "Request Headers:\n",
      "  Remote-Addr: 127.0.0.1\n",
      "  HOST: 127.0.0.1:8080\n",
      "  USER-AGENT: python-requests/2.22.0\n",
      "  ACCEPT-ENCODING: gzip, deflate\n",
      "  ACCEPT: */*\n",
      "  CONNECTION: keep-alive\n",
      "  Content-Type: application/json\n",
      "  Content-Length: 42840\n"
     ]
    },
    {
     "name": "stdout",
     "output_type": "stream",
     "text": [
      "127.0.0.1 - - [15/Jan/2021:15:00:16] \"POST / HTTP/1.1\" 500 1592 \"\" \"python-requests/2.22.0\"\n"
     ]
    },
    {
     "name": "stderr",
     "output_type": "stream",
     "text": [
      "[15/Jan/2021:15:00:17] HTTP \n",
      "Traceback (most recent call last):\n",
      "  File \"/home/giacomozema/.local/lib/python3.8/site-packages/cherrypy/_cprequest.py\", line 638, in respond\n",
      "    self._do_respond(path_info)\n",
      "  File \"/home/giacomozema/.local/lib/python3.8/site-packages/cherrypy/_cprequest.py\", line 697, in _do_respond\n",
      "    response.body = self.handler()\n",
      "  File \"/home/giacomozema/.local/lib/python3.8/site-packages/cherrypy/lib/encoding.py\", line 219, in __call__\n",
      "    self.body = self.oldhandler(*args, **kwargs)\n",
      "  File \"/home/giacomozema/.local/lib/python3.8/site-packages/cherrypy/_cpdispatch.py\", line 54, in __call__\n",
      "    return self.callable(*self.args, **self.kwargs)\n",
      "  File \"<ipython-input-9-09deb7e848d3>\", line 23, in POST\n",
      "    return body[\"bt\"]\n",
      "TypeError: string indices must be integers\n",
      "[15/Jan/2021:15:00:17] HTTP \n",
      "Request Headers:\n",
      "  Remote-Addr: 127.0.0.1\n",
      "  HOST: 127.0.0.1:8080\n",
      "  USER-AGENT: python-requests/2.22.0\n",
      "  ACCEPT-ENCODING: gzip, deflate\n",
      "  ACCEPT: */*\n",
      "  CONNECTION: keep-alive\n",
      "  Content-Type: application/json\n",
      "  Content-Length: 42840\n"
     ]
    },
    {
     "name": "stdout",
     "output_type": "stream",
     "text": [
      "127.0.0.1 - - [15/Jan/2021:15:00:17] \"POST / HTTP/1.1\" 500 1592 \"\" \"python-requests/2.22.0\"\n"
     ]
    },
    {
     "name": "stderr",
     "output_type": "stream",
     "text": [
      "[15/Jan/2021:15:00:18] HTTP \n",
      "Traceback (most recent call last):\n",
      "  File \"/home/giacomozema/.local/lib/python3.8/site-packages/cherrypy/_cprequest.py\", line 638, in respond\n",
      "    self._do_respond(path_info)\n",
      "  File \"/home/giacomozema/.local/lib/python3.8/site-packages/cherrypy/_cprequest.py\", line 697, in _do_respond\n",
      "    response.body = self.handler()\n",
      "  File \"/home/giacomozema/.local/lib/python3.8/site-packages/cherrypy/lib/encoding.py\", line 219, in __call__\n",
      "    self.body = self.oldhandler(*args, **kwargs)\n",
      "  File \"/home/giacomozema/.local/lib/python3.8/site-packages/cherrypy/_cpdispatch.py\", line 54, in __call__\n",
      "    return self.callable(*self.args, **self.kwargs)\n",
      "  File \"<ipython-input-9-09deb7e848d3>\", line 23, in POST\n",
      "    return body[\"bt\"]\n",
      "TypeError: string indices must be integers\n",
      "[15/Jan/2021:15:00:18] HTTP \n",
      "Request Headers:\n",
      "  Remote-Addr: 127.0.0.1\n",
      "  HOST: 127.0.0.1:8080\n",
      "  USER-AGENT: python-requests/2.22.0\n",
      "  ACCEPT-ENCODING: gzip, deflate\n",
      "  ACCEPT: */*\n",
      "  CONNECTION: keep-alive\n",
      "  Content-Type: application/json\n",
      "  Content-Length: 35840\n"
     ]
    },
    {
     "name": "stdout",
     "output_type": "stream",
     "text": [
      "127.0.0.1 - - [15/Jan/2021:15:00:18] \"POST / HTTP/1.1\" 500 1592 \"\" \"python-requests/2.22.0\"\n"
     ]
    },
    {
     "name": "stderr",
     "output_type": "stream",
     "text": [
      "[15/Jan/2021:15:00:19] HTTP \n",
      "Traceback (most recent call last):\n",
      "  File \"/home/giacomozema/.local/lib/python3.8/site-packages/cherrypy/_cprequest.py\", line 638, in respond\n",
      "    self._do_respond(path_info)\n",
      "  File \"/home/giacomozema/.local/lib/python3.8/site-packages/cherrypy/_cprequest.py\", line 697, in _do_respond\n",
      "    response.body = self.handler()\n",
      "  File \"/home/giacomozema/.local/lib/python3.8/site-packages/cherrypy/lib/encoding.py\", line 219, in __call__\n",
      "    self.body = self.oldhandler(*args, **kwargs)\n",
      "  File \"/home/giacomozema/.local/lib/python3.8/site-packages/cherrypy/_cpdispatch.py\", line 54, in __call__\n",
      "    return self.callable(*self.args, **self.kwargs)\n",
      "  File \"<ipython-input-9-09deb7e848d3>\", line 23, in POST\n",
      "    return body[\"bt\"]\n",
      "TypeError: string indices must be integers\n",
      "[15/Jan/2021:15:00:19] HTTP \n",
      "Request Headers:\n",
      "  Remote-Addr: 127.0.0.1\n",
      "  HOST: 127.0.0.1:8080\n",
      "  USER-AGENT: python-requests/2.22.0\n",
      "  ACCEPT-ENCODING: gzip, deflate\n",
      "  ACCEPT: */*\n",
      "  CONNECTION: keep-alive\n",
      "  Content-Type: application/json\n",
      "  Content-Length: 42840\n"
     ]
    },
    {
     "name": "stdout",
     "output_type": "stream",
     "text": [
      "127.0.0.1 - - [15/Jan/2021:15:00:19] \"POST / HTTP/1.1\" 500 1592 \"\" \"python-requests/2.22.0\"\n"
     ]
    },
    {
     "name": "stderr",
     "output_type": "stream",
     "text": [
      "[15/Jan/2021:15:00:20] HTTP \n",
      "Traceback (most recent call last):\n",
      "  File \"/home/giacomozema/.local/lib/python3.8/site-packages/cherrypy/_cprequest.py\", line 638, in respond\n",
      "    self._do_respond(path_info)\n",
      "  File \"/home/giacomozema/.local/lib/python3.8/site-packages/cherrypy/_cprequest.py\", line 697, in _do_respond\n",
      "    response.body = self.handler()\n",
      "  File \"/home/giacomozema/.local/lib/python3.8/site-packages/cherrypy/lib/encoding.py\", line 219, in __call__\n",
      "    self.body = self.oldhandler(*args, **kwargs)\n",
      "  File \"/home/giacomozema/.local/lib/python3.8/site-packages/cherrypy/_cpdispatch.py\", line 54, in __call__\n",
      "    return self.callable(*self.args, **self.kwargs)\n",
      "  File \"<ipython-input-9-09deb7e848d3>\", line 23, in POST\n",
      "    return body[\"bt\"]\n",
      "TypeError: string indices must be integers\n",
      "[15/Jan/2021:15:00:20] HTTP \n",
      "Request Headers:\n",
      "  Remote-Addr: 127.0.0.1\n",
      "  HOST: 127.0.0.1:8080\n",
      "  USER-AGENT: python-requests/2.22.0\n",
      "  ACCEPT-ENCODING: gzip, deflate\n",
      "  ACCEPT: */*\n",
      "  CONNECTION: keep-alive\n",
      "  Content-Type: application/json\n",
      "  Content-Length: 42840\n"
     ]
    },
    {
     "name": "stdout",
     "output_type": "stream",
     "text": [
      "127.0.0.1 - - [15/Jan/2021:15:00:20] \"POST / HTTP/1.1\" 500 1592 \"\" \"python-requests/2.22.0\"\n"
     ]
    },
    {
     "name": "stderr",
     "output_type": "stream",
     "text": [
      "[15/Jan/2021:15:00:21] HTTP \n",
      "Traceback (most recent call last):\n",
      "  File \"/home/giacomozema/.local/lib/python3.8/site-packages/cherrypy/_cprequest.py\", line 638, in respond\n",
      "    self._do_respond(path_info)\n",
      "  File \"/home/giacomozema/.local/lib/python3.8/site-packages/cherrypy/_cprequest.py\", line 697, in _do_respond\n",
      "    response.body = self.handler()\n",
      "  File \"/home/giacomozema/.local/lib/python3.8/site-packages/cherrypy/lib/encoding.py\", line 219, in __call__\n",
      "    self.body = self.oldhandler(*args, **kwargs)\n",
      "  File \"/home/giacomozema/.local/lib/python3.8/site-packages/cherrypy/_cpdispatch.py\", line 54, in __call__\n",
      "    return self.callable(*self.args, **self.kwargs)\n",
      "  File \"<ipython-input-9-09deb7e848d3>\", line 23, in POST\n",
      "    return body[\"bt\"]\n",
      "TypeError: string indices must be integers\n",
      "[15/Jan/2021:15:00:21] HTTP \n",
      "Request Headers:\n",
      "  Remote-Addr: 127.0.0.1\n",
      "  HOST: 127.0.0.1:8080\n",
      "  USER-AGENT: python-requests/2.22.0\n",
      "  ACCEPT-ENCODING: gzip, deflate\n",
      "  ACCEPT: */*\n",
      "  CONNECTION: keep-alive\n",
      "  Content-Type: application/json\n",
      "  Content-Length: 42840\n"
     ]
    },
    {
     "name": "stdout",
     "output_type": "stream",
     "text": [
      "127.0.0.1 - - [15/Jan/2021:15:00:21] \"POST / HTTP/1.1\" 500 1592 \"\" \"python-requests/2.22.0\"\n"
     ]
    },
    {
     "name": "stderr",
     "output_type": "stream",
     "text": [
      "[15/Jan/2021:15:00:22] HTTP \n",
      "Traceback (most recent call last):\n",
      "  File \"/home/giacomozema/.local/lib/python3.8/site-packages/cherrypy/_cprequest.py\", line 638, in respond\n",
      "    self._do_respond(path_info)\n",
      "  File \"/home/giacomozema/.local/lib/python3.8/site-packages/cherrypy/_cprequest.py\", line 697, in _do_respond\n",
      "    response.body = self.handler()\n",
      "  File \"/home/giacomozema/.local/lib/python3.8/site-packages/cherrypy/lib/encoding.py\", line 219, in __call__\n",
      "    self.body = self.oldhandler(*args, **kwargs)\n",
      "  File \"/home/giacomozema/.local/lib/python3.8/site-packages/cherrypy/_cpdispatch.py\", line 54, in __call__\n",
      "    return self.callable(*self.args, **self.kwargs)\n",
      "  File \"<ipython-input-9-09deb7e848d3>\", line 23, in POST\n",
      "    return body[\"bt\"]\n",
      "TypeError: string indices must be integers\n",
      "[15/Jan/2021:15:00:22] HTTP \n",
      "Request Headers:\n",
      "  Remote-Addr: 127.0.0.1\n",
      "  HOST: 127.0.0.1:8080\n",
      "  USER-AGENT: python-requests/2.22.0\n",
      "  ACCEPT-ENCODING: gzip, deflate\n",
      "  ACCEPT: */*\n",
      "  CONNECTION: keep-alive\n",
      "  Content-Type: application/json\n",
      "  Content-Length: 42840\n"
     ]
    },
    {
     "name": "stdout",
     "output_type": "stream",
     "text": [
      "127.0.0.1 - - [15/Jan/2021:15:00:22] \"POST / HTTP/1.1\" 500 1592 \"\" \"python-requests/2.22.0\"\n"
     ]
    },
    {
     "name": "stderr",
     "output_type": "stream",
     "text": [
      "[15/Jan/2021:15:00:23] HTTP \n",
      "Traceback (most recent call last):\n",
      "  File \"/home/giacomozema/.local/lib/python3.8/site-packages/cherrypy/_cprequest.py\", line 638, in respond\n",
      "    self._do_respond(path_info)\n",
      "  File \"/home/giacomozema/.local/lib/python3.8/site-packages/cherrypy/_cprequest.py\", line 697, in _do_respond\n",
      "    response.body = self.handler()\n",
      "  File \"/home/giacomozema/.local/lib/python3.8/site-packages/cherrypy/lib/encoding.py\", line 219, in __call__\n",
      "    self.body = self.oldhandler(*args, **kwargs)\n",
      "  File \"/home/giacomozema/.local/lib/python3.8/site-packages/cherrypy/_cpdispatch.py\", line 54, in __call__\n",
      "    return self.callable(*self.args, **self.kwargs)\n",
      "  File \"<ipython-input-9-09deb7e848d3>\", line 23, in POST\n",
      "    return body[\"bt\"]\n",
      "TypeError: string indices must be integers\n",
      "[15/Jan/2021:15:00:23] HTTP \n",
      "Request Headers:\n",
      "  Remote-Addr: 127.0.0.1\n",
      "  HOST: 127.0.0.1:8080\n",
      "  USER-AGENT: python-requests/2.22.0\n",
      "  ACCEPT-ENCODING: gzip, deflate\n",
      "  ACCEPT: */*\n",
      "  CONNECTION: keep-alive\n",
      "  Content-Type: application/json\n",
      "  Content-Length: 42840\n"
     ]
    },
    {
     "name": "stdout",
     "output_type": "stream",
     "text": [
      "127.0.0.1 - - [15/Jan/2021:15:00:23] \"POST / HTTP/1.1\" 500 1592 \"\" \"python-requests/2.22.0\"\n"
     ]
    },
    {
     "name": "stderr",
     "output_type": "stream",
     "text": [
      "[15/Jan/2021:15:00:24] HTTP \n",
      "Traceback (most recent call last):\n",
      "  File \"/home/giacomozema/.local/lib/python3.8/site-packages/cherrypy/_cprequest.py\", line 638, in respond\n",
      "    self._do_respond(path_info)\n",
      "  File \"/home/giacomozema/.local/lib/python3.8/site-packages/cherrypy/_cprequest.py\", line 697, in _do_respond\n",
      "    response.body = self.handler()\n",
      "  File \"/home/giacomozema/.local/lib/python3.8/site-packages/cherrypy/lib/encoding.py\", line 219, in __call__\n",
      "    self.body = self.oldhandler(*args, **kwargs)\n",
      "  File \"/home/giacomozema/.local/lib/python3.8/site-packages/cherrypy/_cpdispatch.py\", line 54, in __call__\n",
      "    return self.callable(*self.args, **self.kwargs)\n",
      "  File \"<ipython-input-9-09deb7e848d3>\", line 23, in POST\n",
      "    return body[\"bt\"]\n",
      "TypeError: string indices must be integers\n",
      "[15/Jan/2021:15:00:24] HTTP \n",
      "Request Headers:\n",
      "  Remote-Addr: 127.0.0.1\n",
      "  HOST: 127.0.0.1:8080\n",
      "  USER-AGENT: python-requests/2.22.0\n",
      "  ACCEPT-ENCODING: gzip, deflate\n",
      "  ACCEPT: */*\n",
      "  CONNECTION: keep-alive\n",
      "  Content-Type: application/json\n",
      "  Content-Length: 42840\n"
     ]
    },
    {
     "name": "stdout",
     "output_type": "stream",
     "text": [
      "127.0.0.1 - - [15/Jan/2021:15:00:24] \"POST / HTTP/1.1\" 500 1592 \"\" \"python-requests/2.22.0\"\n"
     ]
    },
    {
     "name": "stderr",
     "output_type": "stream",
     "text": [
      "[15/Jan/2021:15:00:24] ENGINE Keyboard Interrupt: shutting down bus\n",
      "[15/Jan/2021:15:00:24] ENGINE Bus STOPPING\n",
      "[15/Jan/2021:15:00:24] ENGINE HTTP Server cherrypy._cpwsgi_server.CPWSGIServer(('127.0.0.1', 8080)) shut down\n",
      "[15/Jan/2021:15:00:24] ENGINE Stopped thread 'Autoreloader'.\n",
      "[15/Jan/2021:15:00:24] ENGINE Bus STOPPED\n",
      "[15/Jan/2021:15:00:24] ENGINE Bus EXITING\n",
      "[15/Jan/2021:15:00:24] ENGINE Bus EXITED\n",
      "[15/Jan/2021:15:00:24] ENGINE Waiting for child threads to terminate...\n"
     ]
    }
   ],
   "source": [
    "if __name__ == '__main__':\n",
    "    conf = {\n",
    "        '/': {\n",
    "            'request.dispatch': cherrypy.dispatch.MethodDispatcher(),\n",
    "            'tools.sessions.on': True,\n",
    "        }\n",
    "    }\n",
    "    cherrypy.tree.mount (myService(), \"/\",conf)\n",
    "    cherrypy.config.update({'server.socket_host': '127.0.0.1'})\n",
    "    cherrypy.config.update({'server.socket_port': 8080})\n",
    "    cherrypy.engine.start()\n",
    "    cherrypy.engine.block()"
   ]
  },
  {
   "cell_type": "code",
   "execution_count": null,
   "metadata": {},
   "outputs": [],
   "source": []
  }
 ],
 "metadata": {
  "kernelspec": {
   "display_name": "Python 3",
   "language": "python",
   "name": "python3"
  },
  "language_info": {
   "codemirror_mode": {
    "name": "ipython",
    "version": 3
   },
   "file_extension": ".py",
   "mimetype": "text/x-python",
   "name": "python",
   "nbconvert_exporter": "python",
   "pygments_lexer": "ipython3",
   "version": "3.8.5"
  }
 },
 "nbformat": 4,
 "nbformat_minor": 4
}
