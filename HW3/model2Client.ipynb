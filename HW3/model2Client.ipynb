{
 "cells": [
  {
   "cell_type": "code",
   "execution_count": null,
   "metadata": {},
   "outputs": [
    {
     "name": "stdout",
     "output_type": "stream",
     "text": [
      "Connected to mqtt.eclipseprojects.io with result code: 0\n",
      "Topic:'/group11IOTHW3/prep_sample', QoS: '2' Message: 'b'rasp message at 1610383187''\n",
      "Topic:'/group11IOTHW3/prep_sample', QoS: '2' Message: 'b'rasp message at 1610383188''\n",
      "Topic:'/group11IOTHW3/prep_sample', QoS: '2' Message: 'b'rasp message at 1610383189''\n",
      "Topic:'/group11IOTHW3/prep_sample', QoS: '2' Message: 'b'rasp message at 1610383190''\n",
      "Topic:'/group11IOTHW3/prep_sample', QoS: '2' Message: 'b'rasp message at 1610383191''\n",
      "Topic:'/group11IOTHW3/prep_sample', QoS: '2' Message: 'b'rasp message at 1610383192''\n",
      "Topic:'/group11IOTHW3/prep_sample', QoS: '2' Message: 'b'rasp message at 1610383193''\n",
      "Topic:'/group11IOTHW3/prep_sample', QoS: '2' Message: 'b'rasp message at 1610383194''\n",
      "Topic:'/group11IOTHW3/prep_sample', QoS: '2' Message: 'b'rasp message at 1610383195''\n",
      "Topic:'/group11IOTHW3/prep_sample', QoS: '2' Message: 'b'rasp message at 1610383196''\n"
     ]
    }
   ],
   "source": [
    "import paho.mqtt.client as PahoMQTT\n",
    "import time\n",
    "from ClientP2P import ClientP2P\n",
    "\n",
    "if __name__ == \"__main__\":\n",
    "        \n",
    "    subscribe_topics, publish_topic = ['/group11IOTHW3/prep_sample'], '/group11IOTHW3/model/2'\n",
    "    model2 = ClientP2P('model2Client', subscribe_topics, publish_topic)\n",
    "    model2.start()\n",
    "    \n",
    "    start = time.time()\n",
    "    # run for 20 seconds\n",
    "    while time.time() - start < 20:\n",
    "        message = ('model2 message at %d'%time.time())\n",
    "        model2.myPublish(publish_topic, message)\n",
    "        time.sleep(1)"
   ]
  },
  {
   "cell_type": "code",
   "execution_count": null,
   "metadata": {},
   "outputs": [],
   "source": []
  }
 ],
 "metadata": {
  "kernelspec": {
   "display_name": "Python 3",
   "language": "python",
   "name": "python3"
  },
  "language_info": {
   "codemirror_mode": {
    "name": "ipython",
    "version": 3
   },
   "file_extension": ".py",
   "mimetype": "text/x-python",
   "name": "python",
   "nbconvert_exporter": "python",
   "pygments_lexer": "ipython3",
   "version": "3.8.5"
  }
 },
 "nbformat": 4,
 "nbformat_minor": 4
}
