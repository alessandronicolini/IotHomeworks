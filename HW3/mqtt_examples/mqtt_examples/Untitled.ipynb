{
 "cells": [
  {
   "cell_type": "code",
   "execution_count": 5,
   "metadata": {},
   "outputs": [
    {
     "name": "stdout",
     "output_type": "stream",
     "text": [
      "Publishing: 'whatever message, also in JSON 0'\n",
      "Connected to mqtt.eclipseprojects.io with result code: 0\n",
      "Publishing: 'whatever message, also in JSON 1'\n",
      "Publishing: 'whatever message, also in JSON 2'\n",
      "Publishing: 'whatever message, also in JSON 3'\n",
      "Publishing: 'whatever message, also in JSON 4'\n",
      "Publishing: 'whatever message, also in JSON 5'\n",
      "Publishing: 'whatever message, also in JSON 6'\n",
      "Publishing: 'whatever message, also in JSON 7'\n",
      "Publishing: 'whatever message, also in JSON 8'\n",
      "Publishing: 'whatever message, also in JSON 9'\n",
      "Publishing: 'whatever message, also in JSON 10'\n",
      "Publishing: 'whatever message, also in JSON 11'\n",
      "Publishing: 'whatever message, also in JSON 12'\n",
      "Publishing: 'whatever message, also in JSON 13'\n",
      "Publishing: 'whatever message, also in JSON 14'\n",
      "Publishing: 'whatever message, also in JSON 15'\n",
      "Publishing: 'whatever message, also in JSON 16'\n",
      "Publishing: 'whatever message, also in JSON 17'\n",
      "Publishing: 'whatever message, also in JSON 18'\n",
      "Publishing: 'whatever message, also in JSON 19'\n"
     ]
    }
   ],
   "source": [
    "import paho.mqtt.client as PahoMQTT\n",
    "import time\n",
    "\n",
    "class MyPublisher:\n",
    "\tdef __init__(self, clientID):\n",
    "\t\tself.clientID = clientID\n",
    "\n",
    "\t\t# create an instance of paho.mqtt.client\n",
    "\t\tself._paho_mqtt = PahoMQTT.Client(self.clientID, False) \n",
    "\t\t# register the callback\n",
    "\t\tself._paho_mqtt.on_connect = self.myOnConnect\n",
    "\n",
    "\t\tself.messageBroker = 'mqtt.eclipseprojects.io'\n",
    "\t\t#self.messageBroker = '192.168.1.5'\n",
    "\n",
    "\tdef start (self):\n",
    "\t\t#manage connection to broker\n",
    "\t\tself._paho_mqtt.connect(self.messageBroker, 1883)\n",
    "\t\tself._paho_mqtt.loop_start()\n",
    "\n",
    "\tdef stop (self):\n",
    "\t\tself._paho_mqtt.loop_stop()\n",
    "\t\tself._paho_mqtt.disconnect()\n",
    "\n",
    "\tdef myPublish(self, topic, message):\n",
    "\t\t# publish a message with a certain topic\n",
    "\t\tself._paho_mqtt.publish(topic, message, 2)\n",
    "\n",
    "\tdef myOnConnect (self, paho_mqtt, userdata, flags, rc):\n",
    "\t\tprint (\"Connected to %s with result code: %d\" % (self.messageBroker, rc))\n",
    "\n",
    "\n",
    "\n",
    "if __name__ == \"__main__\":\n",
    "\ttest = MyPublisher(\"MyPublisher\")\n",
    "\ttest.start()\n",
    "\n",
    "\ta = 0\n",
    "\twhile (a < 20):\n",
    "\t\tmessage = ('whatever message, also in JSON %d' % (a))\n",
    "\t\tprint (\"Publishing: '%s'\" % (message))\n",
    "\t\ttest.myPublish('/this/is/my/topic', message) \t\n",
    "\t\ta += 1\n",
    "\t\ttime.sleep(1)\n",
    "\n",
    "\ttest.stop()"
   ]
  },
  {
   "cell_type": "code",
   "execution_count": 3,
   "metadata": {},
   "outputs": [
    {
     "name": "stdout",
     "output_type": "stream",
     "text": [
      "Collecting paho-mqtt\n",
      "  Using cached paho-mqtt-1.5.1.tar.gz (101 kB)\n",
      "Building wheels for collected packages: paho-mqtt\n",
      "  Building wheel for paho-mqtt (setup.py) ... \u001b[?25ldone\n",
      "\u001b[?25h  Created wheel for paho-mqtt: filename=paho_mqtt-1.5.1-py3-none-any.whl size=61546 sha256=4a85e81691fd14563f038749311610811fa33fd9713416270c933c521b7ee838\n",
      "  Stored in directory: /home/alessandro/.cache/pip/wheels/78/ec/85/b657c03288b6e363c90369c96ee04eea9abb9be78cadb7855b\n",
      "Successfully built paho-mqtt\n",
      "Installing collected packages: paho-mqtt\n",
      "Successfully installed paho-mqtt-1.5.1\n"
     ]
    }
   ],
   "source": [
    "!pip3 install paho-mqtt"
   ]
  },
  {
   "cell_type": "code",
   "execution_count": null,
   "metadata": {},
   "outputs": [],
   "source": []
  }
 ],
 "metadata": {
  "kernelspec": {
   "display_name": "Python 3",
   "language": "python",
   "name": "python3"
  },
  "language_info": {
   "codemirror_mode": {
    "name": "ipython",
    "version": 3
   },
   "file_extension": ".py",
   "mimetype": "text/x-python",
   "name": "python",
   "nbconvert_exporter": "python",
   "pygments_lexer": "ipython3",
   "version": "3.8.5"
  }
 },
 "nbformat": 4,
 "nbformat_minor": 4
}
